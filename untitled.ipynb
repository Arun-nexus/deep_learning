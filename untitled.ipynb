{
  "nbformat": 4,
  "nbformat_minor": 0,
  "metadata": {
    "colab": {
      "provenance": [],
      "gpuType": "T4",
      "authorship_tag": "ABX9TyO8EcwSH+6R0RJzSk3mLXvO",
      "include_colab_link": true
    },
    "kernelspec": {
      "name": "python3",
      "display_name": "Python 3"
    },
    "language_info": {
      "name": "python"
    },
    "accelerator": "GPU"
  },
  "cells": [
    {
      "cell_type": "markdown",
      "metadata": {
        "id": "view-in-github",
        "colab_type": "text"
      },
      "source": [
        "<a href=\"https://colab.research.google.com/github/Arun-nexus/nexux/blob/main/untitled.ipynb\" target=\"_parent\"><img src=\"https://colab.research.google.com/assets/colab-badge.svg\" alt=\"Open In Colab\"/></a>"
      ]
    },
    {
      "cell_type": "code",
      "source": [
        "# # Mount your Google Drive\n",
        "from google.colab import drive\n",
        "drive.mount('/content/drive')\n"
      ],
      "metadata": {
        "id": "LEr6cC8C3398"
      },
      "execution_count": null,
      "outputs": []
    },
    {
      "cell_type": "code",
      "source": [
        "!cp /content/drive/MyDrive/kaggle/kaggle.json ~/.kaggle/\n",
        "!chmod 600 ~/.kaggle/kaggle.json\n",
        "!cat ~/.kaggle/kaggle.json"
      ],
      "metadata": {
        "id": "VCWGBiwx336W"
      },
      "execution_count": null,
      "outputs": []
    },
    {
      "cell_type": "code",
      "source": [
        "!kaggle datasets download -d icebearogo/fruit-classification-dataset"
      ],
      "metadata": {
        "id": "hNgVThBk331F"
      },
      "execution_count": null,
      "outputs": []
    },
    {
      "cell_type": "code",
      "source": [
        "import zipfile\n",
        "with zipfile.ZipFile(\"fruit-classification-dataset.zip\",\"r\") as zip_ref:\n",
        "  zip_ref.extractall(\"fruit_datasets\")"
      ],
      "metadata": {
        "id": "vEonhPL-33ye"
      },
      "execution_count": null,
      "outputs": []
    },
    {
      "cell_type": "code",
      "source": [
        "from tensorflow.keras.preprocessing.image import ImageDataGenerator\n",
        "dataset=ImageDataGenerator(\n",
        "    rescale=1./255,\n",
        "    validation_split=0.3\n",
        ")\n",
        "\n",
        "train_data=dataset.flow_from_directory(\n",
        "    \"fruit_datasets\",\n",
        "    target_size=(128,128),\n",
        "    batch_size=64,\n",
        "    class_mode=\"categorical\",\n",
        "    seed=42,\n",
        "    subset=\"training\"\n",
        "\n",
        ")\n",
        "val_data=dataset.flow_from_directory(\n",
        "    \"fruit_datasets\",\n",
        "    target_size=(128,128),\n",
        "    batch_size=64,\n",
        "    class_mode=\"categorical\",\n",
        "    seed=42,\n",
        "    subset=\"validation\"\n",
        ")"
      ],
      "metadata": {
        "id": "0lGw1tGV33vq"
      },
      "execution_count": null,
      "outputs": []
    },
    {
      "cell_type": "code",
      "source": [
        "from tensorflow.keras import Sequential\n",
        "from tensorflow.keras.layers import Dense,Dropout,Conv2D,MaxPool2D,Flatten,BatchNormalization"
      ],
      "metadata": {
        "id": "roQmqj-w33sq"
      },
      "execution_count": null,
      "outputs": []
    },
    {
      "cell_type": "code",
      "source": [
        "model=Sequential([\n",
        "    Conv2D(64,5,activation=\"relu\",input_shape=(128,128,3),padding=\"same\"),\n",
        "    MaxPool2D(),\n",
        "    BatchNormalization(),\n",
        "    Conv2D(128,3,activation=\"relu\",padding=\"same\"),\n",
        "    MaxPool2D(),\n",
        "    BatchNormalization(),\n",
        "    Conv2D(256,2,activation=\"relu\",padding=\"same\"),\n",
        "    MaxPool2D(),\n",
        "    BatchNormalization(),\n",
        "    Flatten(),\n",
        "    Dense(64,activation=\"relu\"),\n",
        "    Dropout(0.3),\n",
        "    Dense(train_data.num_classes,activation=\"softmax\")\n",
        "])\n"
      ],
      "metadata": {
        "id": "2B3uOg4_33qM"
      },
      "execution_count": null,
      "outputs": []
    },
    {
      "cell_type": "code",
      "source": [
        "model.summary()"
      ],
      "metadata": {
        "id": "kOoz-2ZEBrzO"
      },
      "execution_count": null,
      "outputs": []
    },
    {
      "cell_type": "code",
      "source": [
        "model.compile(\n",
        "    optimizer=\"adam\",loss=\"categorical_crossentropy\",metrics=[\"accuracy\"]\n",
        ")"
      ],
      "metadata": {
        "id": "-JGRS0_ZBzyZ"
      },
      "execution_count": null,
      "outputs": []
    },
    {
      "cell_type": "code",
      "source": [
        "from tensorflow.keras.callbacks import EarlyStopping"
      ],
      "metadata": {
        "id": "md52h55ECGr6"
      },
      "execution_count": null,
      "outputs": []
    },
    {
      "cell_type": "code",
      "source": [
        "stop=EarlyStopping(monitor=\"val_loss\",patience=3,restore_best_weights=True)"
      ],
      "metadata": {
        "id": "aOJPfz_GCOII"
      },
      "execution_count": null,
      "outputs": []
    },
    {
      "cell_type": "code",
      "source": [
        "hist=model.fit(train_data,epochs=200,validation_data=val_data,callbacks=stop)"
      ],
      "metadata": {
        "id": "ZPMXvXnwCfUP"
      },
      "execution_count": null,
      "outputs": []
    },
    {
      "cell_type": "code",
      "source": [],
      "metadata": {
        "id": "440vkz2oC6yU"
      },
      "execution_count": null,
      "outputs": []
    }
  ]
}