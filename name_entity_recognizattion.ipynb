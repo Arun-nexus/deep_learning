{
  "cells": [
    {
      "cell_type": "markdown",
      "metadata": {
        "id": "view-in-github",
        "colab_type": "text"
      },
      "source": [
        "<a href=\"https://colab.research.google.com/github/Arun-nexus/deep_learning/blob/main/name_entity_recognizattion.ipynb\" target=\"_parent\"><img src=\"https://colab.research.google.com/assets/colab-badge.svg\" alt=\"Open In Colab\"/></a>"
      ]
    },
    {
      "cell_type": "code",
      "execution_count": null,
      "id": "9c7f8a8d",
      "metadata": {
        "id": "9c7f8a8d",
        "outputId": "2fc53609-ae81-416c-e93a-591f2c6de73a"
      },
      "outputs": [
        {
          "data": {
            "text/html": [
              "<div>\n",
              "<style scoped>\n",
              "    .dataframe tbody tr th:only-of-type {\n",
              "        vertical-align: middle;\n",
              "    }\n",
              "\n",
              "    .dataframe tbody tr th {\n",
              "        vertical-align: top;\n",
              "    }\n",
              "\n",
              "    .dataframe thead th {\n",
              "        text-align: right;\n",
              "    }\n",
              "</style>\n",
              "<table border=\"1\" class=\"dataframe\">\n",
              "  <thead>\n",
              "    <tr style=\"text-align: right;\">\n",
              "      <th></th>\n",
              "      <th>Sentence #</th>\n",
              "      <th>Word</th>\n",
              "      <th>POS</th>\n",
              "      <th>Tag</th>\n",
              "    </tr>\n",
              "  </thead>\n",
              "  <tbody>\n",
              "    <tr>\n",
              "      <th>0</th>\n",
              "      <td>Sentence: 1</td>\n",
              "      <td>Thousands</td>\n",
              "      <td>NNS</td>\n",
              "      <td>O</td>\n",
              "    </tr>\n",
              "    <tr>\n",
              "      <th>1</th>\n",
              "      <td>NaN</td>\n",
              "      <td>of</td>\n",
              "      <td>IN</td>\n",
              "      <td>O</td>\n",
              "    </tr>\n",
              "    <tr>\n",
              "      <th>2</th>\n",
              "      <td>NaN</td>\n",
              "      <td>demonstrators</td>\n",
              "      <td>NNS</td>\n",
              "      <td>O</td>\n",
              "    </tr>\n",
              "    <tr>\n",
              "      <th>3</th>\n",
              "      <td>NaN</td>\n",
              "      <td>have</td>\n",
              "      <td>VBP</td>\n",
              "      <td>O</td>\n",
              "    </tr>\n",
              "    <tr>\n",
              "      <th>4</th>\n",
              "      <td>NaN</td>\n",
              "      <td>marched</td>\n",
              "      <td>VBN</td>\n",
              "      <td>O</td>\n",
              "    </tr>\n",
              "  </tbody>\n",
              "</table>\n",
              "</div>"
            ],
            "text/plain": [
              "    Sentence #           Word  POS Tag\n",
              "0  Sentence: 1      Thousands  NNS   O\n",
              "1          NaN             of   IN   O\n",
              "2          NaN  demonstrators  NNS   O\n",
              "3          NaN           have  VBP   O\n",
              "4          NaN        marched  VBN   O"
            ]
          },
          "execution_count": 2,
          "metadata": {},
          "output_type": "execute_result"
        }
      ],
      "source": [
        "import pandas as pd\n",
        "df=pd.read_csv(r\"C:\\Users\\Arun\\Downloads\\NER dataset.csv\\NER dataset.csv\",encoding=\"latin1\")\n",
        "df.head()\n"
      ]
    },
    {
      "cell_type": "code",
      "execution_count": null,
      "id": "dc76ae5f",
      "metadata": {
        "id": "dc76ae5f",
        "outputId": "3740180d-a77f-4edf-906d-5fd19927f26d"
      },
      "outputs": [
        {
          "name": "stdout",
          "output_type": "stream",
          "text": [
            "                                                              Word  \\\n",
            "Sentence #                                                           \n",
            "Sentence: 1      [Thousands, of, demonstrators, have, marched, ...   \n",
            "Sentence: 10     [Iranian, officials, say, they, expect, to, ge...   \n",
            "Sentence: 100    [Helicopter, gunships, Saturday, pounded, mili...   \n",
            "Sentence: 1000   [They, left, after, a, tense, hour-long, stand...   \n",
            "Sentence: 10000  [U.N., relief, coordinator, Jan, Egeland, said...   \n",
            "\n",
            "                                                               Tag  \n",
            "Sentence #                                                          \n",
            "Sentence: 1      [O, O, O, O, O, O, B-geo, O, O, O, O, O, B-geo...  \n",
            "Sentence: 10     [B-gpe, O, O, O, O, O, O, O, O, O, O, O, O, O,...  \n",
            "Sentence: 100    [O, O, B-tim, O, O, O, O, O, B-geo, O, O, O, O...  \n",
            "Sentence: 1000                   [O, O, O, O, O, O, O, O, O, O, O]  \n",
            "Sentence: 10000  [B-geo, O, O, B-per, I-per, O, B-tim, O, B-geo...  \n"
          ]
        }
      ],
      "source": [
        "df['Sentence #'] = df['Sentence #'].ffill()\n",
        "agg_func = lambda s: list(s.values)\n",
        "grouped = df.groupby(\"Sentence #\").agg({\"Word\": agg_func, \"Tag\": agg_func})\n",
        "print(grouped.head())\n"
      ]
    },
    {
      "cell_type": "code",
      "execution_count": null,
      "id": "e788ae3d",
      "metadata": {
        "id": "e788ae3d"
      },
      "outputs": [],
      "source": [
        "all_tokens=grouped[\"Word\"]\n",
        "tags=grouped[\"Tag\"]"
      ]
    },
    {
      "cell_type": "code",
      "execution_count": null,
      "id": "1b9ef685",
      "metadata": {
        "id": "1b9ef685"
      },
      "outputs": [],
      "source": [
        "dict={\"<pad>\":0,\"<unk>\":1}\n",
        "for row in all_tokens:\n",
        "    for word in row :\n",
        "        if word not in dict:\n",
        "            dict[word]=len(dict)"
      ]
    },
    {
      "cell_type": "code",
      "execution_count": null,
      "id": "58dacf08",
      "metadata": {
        "id": "58dacf08"
      },
      "outputs": [],
      "source": [
        "tags_dict={\"<pad>\":0,\"<unk>\":1}\n",
        "for row in tags:\n",
        "    for tag in row:\n",
        "        if tag not in tags_dict:\n",
        "            tags_dict[tag]=len(tags_dict)"
      ]
    },
    {
      "cell_type": "code",
      "execution_count": null,
      "id": "b0bc00f8",
      "metadata": {
        "id": "b0bc00f8",
        "outputId": "84629549-d5a6-4bf0-b245-7c9c7b857d96"
      },
      "outputs": [
        {
          "data": {
            "text/plain": [
              "{'<pad>': 0,\n",
              " '<unk>': 1,\n",
              " 'O': 2,\n",
              " 'B-geo': 3,\n",
              " 'B-gpe': 4,\n",
              " 'B-tim': 5,\n",
              " 'B-org': 6,\n",
              " 'I-geo': 7,\n",
              " 'B-per': 8,\n",
              " 'I-per': 9,\n",
              " 'I-org': 10,\n",
              " 'I-tim': 11,\n",
              " 'B-art': 12,\n",
              " 'I-art': 13,\n",
              " 'B-nat': 14,\n",
              " 'I-gpe': 15,\n",
              " 'I-nat': 16,\n",
              " 'B-eve': 17,\n",
              " 'I-eve': 18}"
            ]
          },
          "execution_count": 48,
          "metadata": {},
          "output_type": "execute_result"
        }
      ],
      "source": [
        "tags_dict"
      ]
    },
    {
      "cell_type": "code",
      "execution_count": null,
      "id": "a6881ad9",
      "metadata": {
        "id": "a6881ad9"
      },
      "outputs": [],
      "source": [
        "sequence=[]\n",
        "for row in all_tokens:\n",
        "    token=[dict.get(word,dict[\"<unk>\"]) for word in row]\n",
        "    sequence.append(token)\n"
      ]
    },
    {
      "cell_type": "code",
      "execution_count": null,
      "id": "3c5ef6be",
      "metadata": {
        "id": "3c5ef6be"
      },
      "outputs": [],
      "source": [
        "vocab_size=len(sequence)"
      ]
    },
    {
      "cell_type": "code",
      "execution_count": null,
      "id": "d033ab4a",
      "metadata": {
        "id": "d033ab4a"
      },
      "outputs": [],
      "source": [
        "tags_sequence=[]\n",
        "for row in tags:\n",
        "    tags_token=[tags_dict.get(word,tags_dict[\"<unk>\"]) for word in row]\n",
        "    tags_sequence.append(tags_token)"
      ]
    },
    {
      "cell_type": "code",
      "execution_count": null,
      "id": "bad155c0",
      "metadata": {
        "id": "bad155c0"
      },
      "outputs": [],
      "source": [
        "import torch\n",
        "tensor_sequence=[torch.tensor(row) for row in sequence]\n",
        "tensor_tags=[torch.tensor(row) for row in tags_sequence]"
      ]
    },
    {
      "cell_type": "code",
      "execution_count": null,
      "id": "94cd526c",
      "metadata": {
        "id": "94cd526c"
      },
      "outputs": [],
      "source": [
        "from torch.utils.data import DataLoader,TensorDataset\n",
        "from torch.nn.utils.rnn import pad_sequence\n",
        "def padding(word):\n",
        "    word=pad_sequence(word,batch_first=True)\n",
        "    return word\n",
        "paded_data=padding(tensor_sequence)\n",
        "paded_tags=padding(tensor_tags)"
      ]
    },
    {
      "cell_type": "code",
      "execution_count": null,
      "id": "467f96a3",
      "metadata": {
        "id": "467f96a3",
        "outputId": "6adbc5b7-67de-4e98-800d-ecbd1355f0ac"
      },
      "outputs": [
        {
          "name": "stdout",
          "output_type": "stream",
          "text": [
            "torch.Size([10000, 104])\n",
            "torch.Size([10000, 104])\n"
          ]
        }
      ],
      "source": [
        "paded_tags=paded_tags[:10000,:]\n",
        "paded_data=paded_data[:10000,:]\n",
        "print(paded_data.shape)\n",
        "print(paded_tags.shape)\n",
        "max_len=104"
      ]
    },
    {
      "cell_type": "code",
      "execution_count": null,
      "id": "5a0f7a9f",
      "metadata": {
        "id": "5a0f7a9f"
      },
      "outputs": [],
      "source": [
        "import torch.nn as nn\n",
        "import math\n",
        "class positional_encoding(nn.Module):\n",
        "    def __init__(self,d_model,max_len):\n",
        "        super().__init__()\n",
        "        pe=torch.zeros(max_len,d_model)\n",
        "        position=torch.arange(0,max_len).unsqueeze(1)\n",
        "        div_term=torch.exp(torch.arange(0,d_model,2))*(-math.log(10000.0)/d_model)\n",
        "        pe[:,0::2]=torch.sin(position*div_term)\n",
        "        pe[:,1::2]=torch.cos(position*div_term)\n",
        "        pe=pe.unsqueeze(0)\n",
        "        self.register_buffer(\"pe\",pe)\n",
        "\n",
        "    def forward(self,x):\n",
        "        return x+self.pe[:,:x.size(1)]"
      ]
    },
    {
      "cell_type": "code",
      "execution_count": null,
      "id": "14422ce3",
      "metadata": {
        "id": "14422ce3"
      },
      "outputs": [],
      "source": [
        "class multihead_attention(nn.Module):\n",
        "    def __init__(self,d_model,num_heads):\n",
        "        super().__init__()\n",
        "        assert d_model%num_heads==0\n",
        "\n",
        "        self.d_k=d_model//num_heads\n",
        "\n",
        "        self.q_liner=nn.Linear(d_model,d_model)\n",
        "        self.k_linear=nn.Linear(d_model,d_model)\n",
        "        self.v_linear=nn.Linear(d_model,d_model)\n",
        "        self.out=nn.Linear(d_model,d_model)\n",
        "        self.num_heads=num_heads\n",
        "\n",
        "    def forward(self,q,k,v,mask=None):\n",
        "        batch_size=q.size(0)\n",
        "        def transform(x,linear):\n",
        "            x=linear(x)\n",
        "            x=x.view(batch_size,-1,self.num_heads,self.d_k)\n",
        "            return x.transpose(1,2)\n",
        "        q,k,v=transform(q,self.q_liner),transform(k,self.k_linear),transform(v,self.v_linear)\n",
        "        scores=torch.matmul(q,k.transpose(-2,-1))/math.sqrt(self.d_k)\n",
        "        if mask is not None:\n",
        "            scores=scores.masked_fill(mask==0,1e9)\n",
        "        attn=torch.softmax(scores,dim=-1)\n",
        "        output=torch.matmul(attn,v)\n",
        "        output=output.transpose(1,2).contiguous().view(batch_size,-1,self.d_k,self.num_heads)\n",
        "        return self.out(output)"
      ]
    },
    {
      "cell_type": "code",
      "execution_count": null,
      "id": "117ebd13",
      "metadata": {
        "id": "117ebd13"
      },
      "outputs": [],
      "source": [
        "class feedforward(nn.Module):\n",
        "    def __init__(self,d_model,d_ff=2048,drop=0.2):\n",
        "        super().__init__()\n",
        "        self.feature=nn.Sequential(\n",
        "            nn.Linear(d_model,d_ff),\n",
        "            nn.Dropout(drop),\n",
        "            nn.Linear(d_ff,d_model)\n",
        "        )\n",
        "    def forward(self,x):\n",
        "        return self.feature(x)\n"
      ]
    },
    {
      "cell_type": "code",
      "execution_count": null,
      "id": "869e3d8f",
      "metadata": {
        "id": "869e3d8f"
      },
      "outputs": [],
      "source": [
        "class trasnformerencoder(nn.Module):\n",
        "    def __init__(self,d_model,num_heads,d_ff,drop=0.2):\n",
        "        super().__init__()\n",
        "        self.attn=multihead_attention(d_model,num_heads)\n",
        "        self.ff=feedforward(d_model,d_ff,drop)\n",
        "        self.norm1=nn.LayerNorm(d_model)\n",
        "        self.norm2=nn.LayerNorm(d_model)\n",
        "        self.dropout=nn.Dropout(drop)\n",
        "\n",
        "    def forward(self,x,mask=None):\n",
        "        x2=self.norm1(x+self.dropout(self.attn(x,x,x,mask)))\n",
        "        x3=self.ff(x2)\n",
        "        x=self.norm2(x2+self.dropout(self.attn(x3,x3,x3,mask)))\n",
        "        return x"
      ]
    },
    {
      "cell_type": "code",
      "execution_count": null,
      "id": "ccd093dd",
      "metadata": {
        "id": "ccd093dd"
      },
      "outputs": [],
      "source": [
        "class encoder(nn.Module):\n",
        "    def __init__(self,vocab_size,d_model,max_len,num_layers,num_heads,d_ff,num_classes):\n",
        "        super().__init__()\n",
        "        self.embedding=nn.Embedding(vocab_size,d_model)\n",
        "        self.pe=positional_encoding(d_model,max_len)\n",
        "        self.layer=nn.ModuleList(trasnformerencoder(d_model,num_heads,d_ff,0.2) for _ in range(num_layers))\n",
        "        self.norm=nn.LayerNorm(d_model)\n",
        "        self.fc=nn.Linear(d_model,num_classes)\n",
        "\n",
        "    def forward(self,src,mask=None):\n",
        "        x=self.embedding(src)\n",
        "        x=self.pe(x)\n",
        "        for layer in self.layer:\n",
        "            x=layer(x,mask)\n",
        "            x= self.norm(x)\n",
        "\n",
        "            return self.fc(x)"
      ]
    },
    {
      "cell_type": "code",
      "execution_count": null,
      "id": "61a5b54f",
      "metadata": {
        "id": "61a5b54f"
      },
      "outputs": [],
      "source": [
        "device=(\"cuda\" if torch.cuda.is_available() else \"cpu\")\n",
        "model=encoder(vocab_size=vocab_size,d_model=512,max_len=max_len,num_layers=6,num_heads=8,d_ff=2048,num_classes=len(tags_dict)).to(device)\n",
        "model_loss=nn.CrossEntropyLoss()\n",
        "optimizer=torch.optim.Adam(model.parameters(),lr=0.0001)\n",
        "scheduler=torch.optim.lr_scheduler.ReduceLROnPlateau(optimizer,mode=\"min\",factor=0.5,patience=2)"
      ]
    },
    {
      "cell_type": "code",
      "execution_count": null,
      "id": "9648502c",
      "metadata": {
        "id": "9648502c"
      },
      "outputs": [],
      "source": [
        "import torch.nn as nn\n",
        "class early_stopping(nn.Module):\n",
        "    def __init__(self,min_delta,patience):\n",
        "        super().__init__()\n",
        "        self.min_delta=min_delta\n",
        "        self.partience=patience\n",
        "        self.early_stop=False\n",
        "        self.best_loss=float(\"inf\")\n",
        "        self.counter=0\n",
        "\n",
        "    def __call__(self,val_loss):\n",
        "        if self.min_delta >= val_loss-self.best_loss:\n",
        "            self.counter=0\n",
        "            self.best_loss=val_loss\n",
        "        else:\n",
        "            self.counter+=1\n",
        "            if self.counter>=self.partience:\n",
        "                self.early_stop=True"
      ]
    },
    {
      "cell_type": "code",
      "execution_count": null,
      "id": "9fe08617",
      "metadata": {
        "id": "9fe08617"
      },
      "outputs": [],
      "source": [
        "from torch.amp import GradScaler,autocast"
      ]
    },
    {
      "cell_type": "code",
      "execution_count": null,
      "id": "a5da898d",
      "metadata": {
        "id": "a5da898d"
      },
      "outputs": [],
      "source": [
        "from torch.utils.data import TensorDataset, DataLoader\n",
        "dataset=TensorDataset(paded_data,paded_tags)\n",
        "from sklearn.model_selection import train_test_split\n",
        "train_data,val_data=train_test_split(dataset,test_size=0.3,random_state=42)\n",
        "train_data_loader=DataLoader(train_data,batch_size=128)\n",
        "val_data_loader=DataLoader(val_data,batch_size=128)"
      ]
    },
    {
      "cell_type": "code",
      "execution_count": null,
      "id": "4bd8bf95",
      "metadata": {
        "id": "4bd8bf95"
      },
      "outputs": [],
      "source": [
        "epochs=50\n",
        "stopper=early_stopping(1e-4,4)\n",
        "training_loss_store=[]\n",
        "validation_loss_store=[]\n",
        "training_accuracy_store=[]\n",
        "validation_accuracy_store=[]\n",
        "scaler=GradScaler()\n",
        "\n",
        "for epoch in range(epochs):\n",
        "    running,total,correct=0,0,0\n",
        "    for x,y in train_data_loader:\n",
        "        x,y=x.to(device),y.to(device)\n",
        "\n",
        "        optimizer.zero_grad()\n",
        "        with autocast(\"cuda\"):\n",
        "            output=model(x)\n",
        "            loss=model_loss(output,y)\n",
        "        scaler.scale(loss).backward()\n",
        "        torch.nn.utils.clip_grad_norm_(model.parameters(), max_norm=1.0)\n",
        "        scaler.step(optimizer)\n",
        "        scaler.update()\n",
        "        running+=loss.item()\n",
        "        _,pred=torch.max(output,1)\n",
        "        correct+=(pred==y).sum().item()\n",
        "        total+=y.size(0)\n",
        "        # print(torch.isnan(pred).any(), torch.isnan(y).any())\n",
        "\n",
        "    training_loss=running/len(y)\n",
        "    training_acc=correct/total\n",
        "    training_loss_store.append(training_loss)\n",
        "    training_accuracy_store.append(training_acc)\n",
        "\n",
        "    model.eval()\n",
        "    vrunning,vtotal,vcorrect=0,0,0\n",
        "    for x,y in val_data_loader:\n",
        "        x,y=x.to(device),y.to(device)\n",
        "\n",
        "        optimizer.zero_grad()\n",
        "        with autocast(\"cuda\"):\n",
        "            voutput=model(x)\n",
        "            vloss=model_loss(voutput,y)\n",
        "\n",
        "        vrunning+=vloss.item()\n",
        "        _,vpred=torch.max(voutput,1)\n",
        "        vcorrect+=(vpred==y).sum().item()\n",
        "        vtotal+=y.size(0)\n",
        "    val_loss=vrunning/len(y)\n",
        "    val_acc=vcorrect/vtotal\n",
        "    validation_loss_store.append(val_loss)\n",
        "    validation_accuracy_store.append(val_acc)\n",
        "\n",
        "    print(f\"epoch: {epoch+1} training_loss: {training_loss:.4f} training acc:{training_acc:.2f} validation_loss: {val_loss:.4f} validation_acc: {val_acc:.2f} \")\n",
        "    stopper(val_loss)\n",
        "    if stopper.early_stop:\n",
        "        print(\"early_stopping triggered\")\n",
        "        break"
      ]
    },
    {
      "cell_type": "code",
      "execution_count": null,
      "id": "b48c23cd",
      "metadata": {
        "id": "b48c23cd"
      },
      "outputs": [],
      "source": []
    }
  ],
  "metadata": {
    "kernelspec": {
      "display_name": "Python 3",
      "language": "python",
      "name": "python3"
    },
    "language_info": {
      "codemirror_mode": {
        "name": "ipython",
        "version": 3
      },
      "file_extension": ".py",
      "mimetype": "text/x-python",
      "name": "python",
      "nbconvert_exporter": "python",
      "pygments_lexer": "ipython3",
      "version": "3.10.10"
    },
    "colab": {
      "provenance": [],
      "include_colab_link": true
    }
  },
  "nbformat": 4,
  "nbformat_minor": 5
}