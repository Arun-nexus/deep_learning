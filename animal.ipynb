{
  "cells": [
    {
      "cell_type": "markdown",
      "metadata": {
        "id": "view-in-github",
        "colab_type": "text"
      },
      "source": [
        "<a href=\"https://colab.research.google.com/github/Arun-nexus/deep_learning/blob/main/animal.ipynb\" target=\"_parent\"><img src=\"https://colab.research.google.com/assets/colab-badge.svg\" alt=\"Open In Colab\"/></a>"
      ]
    },
    {
      "cell_type": "code",
      "execution_count": null,
      "id": "211a4279",
      "metadata": {
        "id": "211a4279"
      },
      "outputs": [],
      "source": [
        "from PIL import Image\n",
        "import numpy as np"
      ]
    },
    {
      "cell_type": "code",
      "execution_count": null,
      "id": "4cb889c9",
      "metadata": {
        "id": "4cb889c9"
      },
      "outputs": [],
      "source": [
        "\n",
        "import tensorflow as tf\n",
        "gpus = tf.config.list_physical_devices('GPU')\n",
        "if gpus:\n",
        "    for gpu in gpus:\n",
        "        tf.config.experimental.set_memory_growth(gpu, True)\n"
      ]
    },
    {
      "cell_type": "code",
      "execution_count": null,
      "id": "8f8a8876",
      "metadata": {
        "id": "8f8a8876"
      },
      "outputs": [],
      "source": [
        "from tensorflow.keras.preprocessing.image import ImageDataGenerator\n",
        "\n",
        "data=ImageDataGenerator(\n",
        "    rotation_range=30,\n",
        "    width_shift_range=0.2,\n",
        "    height_shift_range=0.1,\n",
        "    zoom_range=0.2,\n",
        "    horizontal_flip=True,\n",
        "    brightness_range=[0.5,1.5],\n",
        "    shear_range=0.2,\n",
        "    fill_mode=\"nearest\",\n",
        "    rescale=1./255,\n",
        "    validation_split=0.4\n",
        ")\n",
        "# data=ImageDataGenerator(rescale=1./255)\n",
        "\n",
        "training=data.flow_from_directory(\n",
        "    r\"C:\\Users\\Arun\\Downloads\\archive (1)\\raw-img\",\n",
        "    target_size=(64,64),\n",
        "    batch_size=32,\n",
        "    class_mode=\"categorical\",\n",
        "    subset=\"training\",\n",
        "    seed=42\n",
        ")\n",
        "validation=data.flow_from_directory(\n",
        "    r\"C:\\Users\\Arun\\Downloads\\archive (1)\\raw-img\",\n",
        "    target_size=(64,64),\n",
        "    batch_size=32,\n",
        "    class_mode=\"categorical\",\n",
        "    subset=\"validation\",\n",
        "    seed=42\n",
        ")\n"
      ]
    },
    {
      "cell_type": "code",
      "execution_count": null,
      "id": "953a880e",
      "metadata": {
        "id": "953a880e"
      },
      "outputs": [],
      "source": [
        "from tensorflow.keras import Sequential\n",
        "from tensorflow.keras.layers import Dense,Flatten,Conv2D,Dropout,BatchNormalization,MaxPooling2D"
      ]
    },
    {
      "cell_type": "code",
      "execution_count": null,
      "id": "e2101933",
      "metadata": {
        "id": "e2101933"
      },
      "outputs": [],
      "source": [
        "import tensorflow as tf"
      ]
    },
    {
      "cell_type": "code",
      "execution_count": null,
      "id": "bd1244b4",
      "metadata": {
        "id": "bd1244b4"
      },
      "outputs": [],
      "source": [
        "\n",
        "model=Sequential()\n",
        "\n",
        "model.add(Conv2D(128,kernel_size=(5,5),input_shape=(64,64,3),padding=\"same\",activation=\"relu\"))\n",
        "model.add(MaxPooling2D((2,2)))\n",
        "model.add(BatchNormalization())\n",
        "model.add(Conv2D(64,kernel_size=(3,3),padding=\"same\",activation=\"relu\"))\n",
        "model.add(MaxPooling2D((2,2)))\n",
        "model.add(BatchNormalization())\n",
        "model.add(Conv2D(32,kernel_size=(2,2),padding=\"same\",activation=\"relu\"))\n",
        "model.add(MaxPooling2D((2,2)))\n",
        "model.add(BatchNormalization())\n",
        "model.add(Flatten())\n",
        "model.add(Dense(128,activation=\"relu\"))\n",
        "model.add(Dropout(0.1))\n",
        "model.add(Dense(64,activation=\"relu\"))\n",
        "model.add(Dropout(0.2))\n",
        "model.add(Dense(32,activation=\"relu\"))\n",
        "model.add(Dropout(0.3))\n",
        "model.add(Dense(10,activation=\"softmax\"))"
      ]
    },
    {
      "cell_type": "code",
      "execution_count": null,
      "id": "b136efaa",
      "metadata": {
        "id": "b136efaa"
      },
      "outputs": [],
      "source": [
        "model.summary()"
      ]
    },
    {
      "cell_type": "code",
      "execution_count": null,
      "id": "4288d3b8",
      "metadata": {
        "id": "4288d3b8"
      },
      "outputs": [],
      "source": [
        "\n",
        "model.compile(loss=\"categorical_crossentropy\",optimizer=\"adam\",metrics=[\"accuracy\"])\n"
      ]
    },
    {
      "cell_type": "code",
      "execution_count": null,
      "id": "be5629b6",
      "metadata": {
        "id": "be5629b6"
      },
      "outputs": [],
      "source": [
        "from tensorflow.keras.callbacks import EarlyStopping\n",
        "calllback=EarlyStopping(\n",
        "    monitor=\"val_loss\",\n",
        "    patience=5,\n",
        "    mode=\"auto\",\n",
        "    verbose=1,\n",
        "    restore_best_weights=False\n",
        ")"
      ]
    },
    {
      "cell_type": "code",
      "execution_count": null,
      "id": "fae2362c",
      "metadata": {
        "id": "fae2362c"
      },
      "outputs": [],
      "source": [
        "hist=model.fit(training,epochs=500,validation_data=validation,callbacks=calllback)"
      ]
    },
    {
      "cell_type": "code",
      "execution_count": null,
      "id": "3bbfcc45",
      "metadata": {
        "id": "3bbfcc45"
      },
      "outputs": [],
      "source": [
        "import matplotlib.pyplot as plt\n",
        "plt.plot(hist.history[\"loss\"])\n",
        "plt.plot(hist.history[\"val_loss\"])\n",
        "plt.show()\n",
        "plt.plot(hist.history[\"accuracy\"])\n",
        "plt.plot(hist.history[\"val_accuracy\"])\n",
        "plt.show()"
      ]
    },
    {
      "cell_type": "code",
      "execution_count": null,
      "id": "1436e2bf",
      "metadata": {
        "id": "1436e2bf"
      },
      "outputs": [],
      "source": [
        "newimg=Image.open(r\"C:\\Users\\Arun\\Downloads\\monarchbutterflybush-56cb3a725f9b5879cc542678.jpg\")\n",
        "newimg=newimg.resize(64,64,3)\n",
        "newimg=np.array(newimg)\n"
      ]
    },
    {
      "cell_type": "code",
      "execution_count": null,
      "id": "22baaf6b",
      "metadata": {
        "id": "22baaf6b"
      },
      "outputs": [],
      "source": [
        "pred=model.predict(newimg)"
      ]
    }
  ],
  "metadata": {
    "kernelspec": {
      "display_name": "Python 3",
      "language": "python",
      "name": "python3"
    },
    "language_info": {
      "codemirror_mode": {
        "name": "ipython",
        "version": 3
      },
      "file_extension": ".py",
      "mimetype": "text/x-python",
      "name": "python",
      "nbconvert_exporter": "python",
      "pygments_lexer": "ipython3",
      "version": "3.10.10"
    },
    "colab": {
      "provenance": [],
      "include_colab_link": true
    }
  },
  "nbformat": 4,
  "nbformat_minor": 5
}