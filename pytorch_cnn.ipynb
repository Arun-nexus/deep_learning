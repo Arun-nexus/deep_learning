{
  "nbformat": 4,
  "nbformat_minor": 0,
  "metadata": {
    "colab": {
      "provenance": [],
      "gpuType": "T4",
      "authorship_tag": "ABX9TyNfNZUJbDQHfFqnsbNixLcs",
      "include_colab_link": true
    },
    "kernelspec": {
      "name": "python3",
      "display_name": "Python 3"
    },
    "language_info": {
      "name": "python"
    },
    "accelerator": "GPU"
  },
  "cells": [
    {
      "cell_type": "markdown",
      "metadata": {
        "id": "view-in-github",
        "colab_type": "text"
      },
      "source": [
        "<a href=\"https://colab.research.google.com/github/Arun-nexus/deep_learning/blob/main/pytorch_cnn.ipynb\" target=\"_parent\"><img src=\"https://colab.research.google.com/assets/colab-badge.svg\" alt=\"Open In Colab\"/></a>"
      ]
    },
    {
      "cell_type": "code",
      "execution_count": null,
      "metadata": {
        "colab": {
          "base_uri": "https://localhost:8080/"
        },
        "id": "vY1gsyeKU2tF",
        "outputId": "ee73047a-f5a2-483f-caea-22f0eacce6be"
      },
      "outputs": [
        {
          "output_type": "stream",
          "name": "stdout",
          "text": [
            "Mounted at /content/drive\n"
          ]
        }
      ],
      "source": [
        "from google.colab import drive\n",
        "drive.mount(\"/content/drive\")"
      ]
    },
    {
      "cell_type": "code",
      "source": [
        "!mkdir -p ~/.kaggle\n",
        "!cp /content/drive/MyDrive/kaggle/kaggle.json ~/.kaggle\n",
        "!chmod 600 ~/.kaggle/kaggle.json"
      ],
      "metadata": {
        "id": "MUthPq41VdZ3"
      },
      "execution_count": null,
      "outputs": []
    },
    {
      "cell_type": "code",
      "source": [
        "!kaggle datasets download -d iamsouravbanerjee/animal-image-dataset-90-different-animals"
      ],
      "metadata": {
        "colab": {
          "base_uri": "https://localhost:8080/"
        },
        "id": "um-ExXbMWE5H",
        "outputId": "c2250ac1-1ea4-485a-9591-cb9e45a67792"
      },
      "execution_count": null,
      "outputs": [
        {
          "output_type": "stream",
          "name": "stdout",
          "text": [
            "Dataset URL: https://www.kaggle.com/datasets/iamsouravbanerjee/animal-image-dataset-90-different-animals\n",
            "License(s): other\n",
            "Downloading animal-image-dataset-90-different-animals.zip to /content\n",
            " 96% 630M/656M [00:04<00:00, 167MB/s]\n",
            "100% 656M/656M [00:04<00:00, 162MB/s]\n"
          ]
        }
      ]
    },
    {
      "cell_type": "code",
      "source": [
        "import zipfile"
      ],
      "metadata": {
        "id": "wRYSTmwlWnNs"
      },
      "execution_count": null,
      "outputs": []
    },
    {
      "cell_type": "code",
      "source": [
        "with zipfile.ZipFile(\"animal-image-dataset-90-different-animals.zip\",\"r\") as zip:\n",
        "  zip.extractall(\"dataset\")"
      ],
      "metadata": {
        "id": "CwuIq0x4Wzyf"
      },
      "execution_count": null,
      "outputs": []
    },
    {
      "cell_type": "code",
      "source": [
        "import torchvision\n",
        "from torchvision import datasets,transforms\n",
        "from torch.utils.data import DataLoader,random_split\n",
        "from torch import optim"
      ],
      "metadata": {
        "id": "UWtifufk8VCN"
      },
      "execution_count": null,
      "outputs": []
    },
    {
      "cell_type": "code",
      "source": [
        "augmentation=transforms.Compose([\n",
        "    transforms.Resize((128,128)),\n",
        "    transforms.RandomHorizontalFlip(),\n",
        "    transforms.RandomRotation(15),\n",
        "    transforms.ToTensor(),\n",
        "    transforms.Normalize((0.5,0.5,0.5),(0.5,0.5,0.5))\n",
        "])\n",
        "\n",
        "val_augmentation=transforms.Compose([transforms.Resize((128,128)),transforms.ToTensor()])"
      ],
      "metadata": {
        "id": "c6B-97ki9Sao"
      },
      "execution_count": 44,
      "outputs": []
    },
    {
      "cell_type": "code",
      "source": [
        "full_data=datasets.ImageFolder(\"/content/dataset\",transform=augmentation)\n",
        "val_data=datasets.ImageFolder(\"/content/dataset\",transform=val_augmentation)\n",
        "loader=DataLoader(full_data,batch_size=64,shuffle=True,pin_memory=True,num_workers=5)"
      ],
      "metadata": {
        "id": "B4Dma8Gw-gAX"
      },
      "execution_count": 46,
      "outputs": []
    },
    {
      "cell_type": "code",
      "source": [
        "from torch import nn"
      ],
      "metadata": {
        "id": "rif4EL-IAJkf"
      },
      "execution_count": null,
      "outputs": []
    },
    {
      "cell_type": "code",
      "source": [
        "class animal_cnn(nn.Module):\n",
        "  def __init__(self,n_classes):\n",
        "    super().__init__()\n",
        "    self.feature=nn.Sequential(\n",
        "        nn.Conv2d(3,32,3,padding=1),nn.ReLU(),\n",
        "        nn.MaxPool2d(2,2),\n",
        "        nn.Conv2d(32,64,3,padding=1),nn.ReLU(),\n",
        "        nn.MaxPool2d(2,2),\n",
        "        nn.Conv2d(64,128,3,padding=1),nn.ReLU(),\n",
        "        nn.MaxPool2d(2,2),\n",
        "    )\n",
        "    self.dense=nn.Sequential(\n",
        "        nn.Flatten(),\n",
        "        nn.Linear(128*16*16,256),nn.ReLU(),\n",
        "        nn.Dropout(0.25),\n",
        "        nn.Linear(256,n_classes),\n",
        "    )\n",
        "  def forward(self,x):\n",
        "    x=self.feature(x)\n",
        "    x=self.dense(x)\n",
        "    return x"
      ],
      "metadata": {
        "id": "VNL5MTGgAUrf"
      },
      "execution_count": null,
      "outputs": []
    },
    {
      "cell_type": "code",
      "source": [
        "import torch"
      ],
      "metadata": {
        "id": "aITOwC64Rkyd"
      },
      "execution_count": 50,
      "outputs": []
    },
    {
      "cell_type": "code",
      "source": [
        "device=torch.device(\"cuda\" if torch.cuda.is_available() else \"cpu\")\n",
        "model=animal_cnn(n_classes=len(full_data.classes)).to(device)\n",
        "losses=nn.CrossEntropyLoss()\n",
        "optimizer=optim.Adam(model.parameters(),lr=1e-3)\n"
      ],
      "metadata": {
        "id": "BNmS0f3-BBkc"
      },
      "execution_count": 51,
      "outputs": []
    },
    {
      "cell_type": "code",
      "source": [
        "class early_stopping():\n",
        "  def __init__(self,patience=2,min_delta=0):\n",
        "    self.patience=patience\n",
        "    self.min_delta=min_delta\n",
        "    self.best_loss=float(\"inf\")\n",
        "    self.counter=0\n",
        "    self.early_stop=False\n",
        "  def __call__(self,val_loss):\n",
        "    if val_loss<self.best_loss-self.min_delta:\n",
        "      self.best_loss=val_loss\n",
        "      self.counter=0\n",
        "    else:\n",
        "      self.counter+=1\n",
        "      if self.counter>=self.patience:\n",
        "        self.early_stop=True"
      ],
      "metadata": {
        "id": "2xi2ctMCHIDu"
      },
      "execution_count": null,
      "outputs": []
    },
    {
      "cell_type": "code",
      "source": [
        "epochs=3\n",
        "early_stop=early_stopping()\n",
        "for epoch in range(epochs):\n",
        "  model.train()\n",
        "  running_loss=0\n",
        "  correct = 0\n",
        "  total = 0\n",
        "  for img,label in loader:\n",
        "    img,label=img.to(device),label.to(device)\n",
        "    optimizer.zero_grad()\n",
        "    outputs = model(img)\n",
        "    loss=losses(outputs,label)\n",
        "    loss.backward()\n",
        "    optimizer.step()\n",
        "\n",
        "    running_loss += loss.item()\n",
        "\n",
        "    pred=outputs.argmax(1)\n",
        "    total+=label.size(0)\n",
        "    correct+=(pred == label).sum().item()\n",
        "\n",
        "  epoch_loss=running_loss/len(loader)\n",
        "  acc=100*correct/total\n",
        "  print(f\"epoch{epoch+1:02d}|loss{epoch_loss:.4f}|acc{acc:.2f}\")"
      ],
      "metadata": {
        "id": "DBuZ60lbGXBu"
      },
      "execution_count": null,
      "outputs": []
    },
    {
      "cell_type": "code",
      "source": [
        "from PIL import  Image"
      ],
      "metadata": {
        "id": "TM7QqLpEPzbd"
      },
      "execution_count": 53,
      "outputs": []
    },
    {
      "cell_type": "code",
      "source": [
        "from google.colab import files\n",
        "files.upload()"
      ],
      "metadata": {
        "id": "ZboKfAfpT4T9"
      },
      "execution_count": null,
      "outputs": []
    },
    {
      "cell_type": "code",
      "source": [
        "def predict(img_path):\n",
        "  image=Image.open(img_path).convert(\"RGB\")\n",
        "  image=transforms.Resize(1,3,128,128)\n",
        "  image=transforms.ToTensor()\n",
        "  model.eval()\n",
        "  with torch.no_grad():\n",
        "    out=model(image)\n",
        "    idx = out.argmax(1).itme()\n",
        "    return full_data.classes(idx)\n",
        "print(predict(\"content/image\"))\n"
      ],
      "metadata": {
        "id": "zq0K2lUuSSLd"
      },
      "execution_count": null,
      "outputs": []
    }
  ]
}