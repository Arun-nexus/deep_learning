{
  "cells": [
    {
      "cell_type": "markdown",
      "metadata": {
        "id": "view-in-github",
        "colab_type": "text"
      },
      "source": [
        "<a href=\"https://colab.research.google.com/github/Arun-nexus/deep_learning/blob/main/spam_classifier.ipynb\" target=\"_parent\"><img src=\"https://colab.research.google.com/assets/colab-badge.svg\" alt=\"Open In Colab\"/></a>"
      ]
    },
    {
      "cell_type": "code",
      "execution_count": null,
      "id": "6d49ec54",
      "metadata": {
        "id": "6d49ec54",
        "outputId": "81d79bb0-9a5d-494b-9c59-302c7c9bf218"
      },
      "outputs": [
        {
          "data": {
            "text/html": [
              "<div>\n",
              "<style scoped>\n",
              "    .dataframe tbody tr th:only-of-type {\n",
              "        vertical-align: middle;\n",
              "    }\n",
              "\n",
              "    .dataframe tbody tr th {\n",
              "        vertical-align: top;\n",
              "    }\n",
              "\n",
              "    .dataframe thead th {\n",
              "        text-align: right;\n",
              "    }\n",
              "</style>\n",
              "<table border=\"1\" class=\"dataframe\">\n",
              "  <thead>\n",
              "    <tr style=\"text-align: right;\">\n",
              "      <th></th>\n",
              "      <th>v1</th>\n",
              "      <th>v2</th>\n",
              "      <th>Unnamed: 2</th>\n",
              "      <th>Unnamed: 3</th>\n",
              "      <th>Unnamed: 4</th>\n",
              "    </tr>\n",
              "  </thead>\n",
              "  <tbody>\n",
              "    <tr>\n",
              "      <th>0</th>\n",
              "      <td>ham</td>\n",
              "      <td>Go until jurong point, crazy.. Available only ...</td>\n",
              "      <td>NaN</td>\n",
              "      <td>NaN</td>\n",
              "      <td>NaN</td>\n",
              "    </tr>\n",
              "    <tr>\n",
              "      <th>1</th>\n",
              "      <td>ham</td>\n",
              "      <td>Ok lar... Joking wif u oni...</td>\n",
              "      <td>NaN</td>\n",
              "      <td>NaN</td>\n",
              "      <td>NaN</td>\n",
              "    </tr>\n",
              "    <tr>\n",
              "      <th>2</th>\n",
              "      <td>spam</td>\n",
              "      <td>Free entry in 2 a wkly comp to win FA Cup fina...</td>\n",
              "      <td>NaN</td>\n",
              "      <td>NaN</td>\n",
              "      <td>NaN</td>\n",
              "    </tr>\n",
              "    <tr>\n",
              "      <th>3</th>\n",
              "      <td>ham</td>\n",
              "      <td>U dun say so early hor... U c already then say...</td>\n",
              "      <td>NaN</td>\n",
              "      <td>NaN</td>\n",
              "      <td>NaN</td>\n",
              "    </tr>\n",
              "    <tr>\n",
              "      <th>4</th>\n",
              "      <td>ham</td>\n",
              "      <td>Nah I don't think he goes to usf, he lives aro...</td>\n",
              "      <td>NaN</td>\n",
              "      <td>NaN</td>\n",
              "      <td>NaN</td>\n",
              "    </tr>\n",
              "  </tbody>\n",
              "</table>\n",
              "</div>"
            ],
            "text/plain": [
              "     v1                                                 v2 Unnamed: 2  \\\n",
              "0   ham  Go until jurong point, crazy.. Available only ...        NaN   \n",
              "1   ham                      Ok lar... Joking wif u oni...        NaN   \n",
              "2  spam  Free entry in 2 a wkly comp to win FA Cup fina...        NaN   \n",
              "3   ham  U dun say so early hor... U c already then say...        NaN   \n",
              "4   ham  Nah I don't think he goes to usf, he lives aro...        NaN   \n",
              "\n",
              "  Unnamed: 3 Unnamed: 4  \n",
              "0        NaN        NaN  \n",
              "1        NaN        NaN  \n",
              "2        NaN        NaN  \n",
              "3        NaN        NaN  \n",
              "4        NaN        NaN  "
            ]
          },
          "execution_count": 1,
          "metadata": {},
          "output_type": "execute_result"
        }
      ],
      "source": [
        "import pandas as pd\n",
        "df=pd.read_csv(r\"C:\\Users\\Arun\\Downloads\\spam (1).csv\",encoding=\"latin-1\")\n",
        "df.head()"
      ]
    },
    {
      "cell_type": "code",
      "execution_count": null,
      "id": "57a2590c",
      "metadata": {
        "id": "57a2590c"
      },
      "outputs": [],
      "source": [
        "from nltk import word_tokenize,WordNetLemmatizer"
      ]
    },
    {
      "cell_type": "code",
      "execution_count": null,
      "id": "d991dc8c",
      "metadata": {
        "id": "d991dc8c"
      },
      "outputs": [],
      "source": [
        "from sklearn.feature_extraction.text import TfidfVectorizer"
      ]
    },
    {
      "cell_type": "code",
      "execution_count": null,
      "id": "5092abde",
      "metadata": {
        "id": "5092abde"
      },
      "outputs": [],
      "source": [
        "x=df[\"v2\"]\n",
        "y=df[\"v1\"]"
      ]
    },
    {
      "cell_type": "code",
      "execution_count": null,
      "id": "cb09fc79",
      "metadata": {
        "id": "cb09fc79",
        "outputId": "fd7e87c8-d707-4200-85ec-777808718a7b"
      },
      "outputs": [
        {
          "name": "stdout",
          "output_type": "stream",
          "text": [
            "Go until jurong point, crazy.. Available only in bugis n great world la e buffet... Cine there got amore wat...\n",
            "Ok lar... Joking wif u oni...\n",
            "Free entry in 2 a wkly comp to win FA Cup final tkts 21st May 2005. Text FA to 87121 to receive entry question(std txt rate)T&C's apply 08452810075over18's\n"
          ]
        }
      ],
      "source": [
        "x.head()\n",
        "x=x.tolist()\n",
        "word=[]\n",
        "for i in range(0,3):\n",
        "    print(x[i])"
      ]
    },
    {
      "cell_type": "code",
      "execution_count": null,
      "id": "ae4d1418",
      "metadata": {
        "id": "ae4d1418"
      },
      "outputs": [],
      "source": [
        "def preprocess(words):\n",
        "    lemmatizer=WordNetLemmatizer()\n",
        "    tokens=word_tokenize(words)\n",
        "    lemmatized=[lemmatizer.lemmatize(i) for i in tokens]\n",
        "    return tokens\n",
        "\n",
        "dict=[preprocess(j) for j in x]"
      ]
    },
    {
      "cell_type": "code",
      "execution_count": null,
      "id": "ac6fa35a",
      "metadata": {
        "id": "ac6fa35a"
      },
      "outputs": [],
      "source": [
        "from collections import Counter\n",
        "import torch.nn as nn"
      ]
    },
    {
      "cell_type": "code",
      "execution_count": null,
      "id": "9e1ef09f",
      "metadata": {
        "id": "9e1ef09f"
      },
      "outputs": [],
      "source": [
        "joined_data=[\" \".join(row) for row in dict]\n"
      ]
    },
    {
      "cell_type": "code",
      "execution_count": null,
      "id": "c97fb657",
      "metadata": {
        "id": "c97fb657"
      },
      "outputs": [],
      "source": [
        "from sklearn.feature_extraction.text import TfidfVectorizer\n",
        "import torch\n",
        "from torch.utils.data import TensorDataset,DataLoader\n",
        "import math"
      ]
    },
    {
      "cell_type": "code",
      "execution_count": null,
      "id": "1db93269",
      "metadata": {
        "id": "1db93269",
        "outputId": "8063ea48-84cb-4758-f06b-e557a75a299a"
      },
      "outputs": [
        {
          "name": "stdout",
          "output_type": "stream",
          "text": [
            "'Go until jurong point , crazy .. Available only in bugis n great world la e buffet ... Cine there got amore wat ...'\n",
            "'Ok lar ... Joking wif u oni ...'\n",
            "\"Free entry in 2 a wkly comp to win FA Cup final tkts 21st May 2005 . Text FA to 87121 to receive entry question ( std txt rate ) T & C 's apply 08452810075over18 's\"\n"
          ]
        }
      ],
      "source": [
        "print(repr(joined_data[0]))\n",
        "print(repr(joined_data[1]))\n",
        "print(repr(joined_data[2]))"
      ]
    },
    {
      "cell_type": "code",
      "execution_count": null,
      "id": "12446669",
      "metadata": {
        "id": "12446669"
      },
      "outputs": [],
      "source": [
        "\n",
        "vectorizer=TfidfVectorizer()\n",
        "vectorized_data=vectorizer.fit_transform(joined_data)"
      ]
    },
    {
      "cell_type": "code",
      "execution_count": null,
      "id": "adebc37d",
      "metadata": {
        "id": "adebc37d"
      },
      "outputs": [],
      "source": [
        "vectorized_data=vectorized_data.todense()\n"
      ]
    },
    {
      "cell_type": "code",
      "execution_count": null,
      "id": "54f73fc6",
      "metadata": {
        "id": "54f73fc6",
        "outputId": "3001771d-8b41-4e6b-d22d-2a90b5a53a33"
      },
      "outputs": [
        {
          "name": "stdout",
          "output_type": "stream",
          "text": [
            "tensor([0, 0, 0,  ..., 0, 0, 0])\n",
            "tensor(0)\n",
            "torch.Size([5572, 8660])\n"
          ]
        }
      ],
      "source": [
        "print(vectorized_data[0])\n",
        "print((vectorized_data[0]!=0).sum())\n",
        "print(vectorized_data.shape)"
      ]
    },
    {
      "cell_type": "code",
      "execution_count": null,
      "id": "d601701c",
      "metadata": {
        "id": "d601701c",
        "outputId": "63dfacc4-628d-4904-87af-8b2a8090ace3"
      },
      "outputs": [
        {
          "name": "stderr",
          "output_type": "stream",
          "text": [
            "C:\\Users\\Arun\\AppData\\Local\\Temp\\ipykernel_12864\\414006721.py:2: UserWarning: To copy construct from a tensor, it is recommended to use sourceTensor.detach().clone() or sourceTensor.detach().clone().requires_grad_(True), rather than torch.tensor(sourceTensor).\n",
            "  vectorized_data=torch.tensor(vectorized_data,dtype=torch.long)\n"
          ]
        }
      ],
      "source": [
        "vocab_size=len(vectorizer.get_feature_names_out())\n",
        "vectorized_data=torch.tensor(vectorized_data,dtype=torch.long)"
      ]
    },
    {
      "cell_type": "code",
      "execution_count": null,
      "id": "62c0a5a1",
      "metadata": {
        "id": "62c0a5a1"
      },
      "outputs": [],
      "source": [
        "x=vectorized_data"
      ]
    },
    {
      "cell_type": "code",
      "execution_count": null,
      "id": "89a1a45b",
      "metadata": {
        "id": "89a1a45b"
      },
      "outputs": [],
      "source": [
        "y=y.map({\"spam\":1,\"ham\":0})\n",
        "y=torch.tensor(y,dtype=torch.long)"
      ]
    },
    {
      "cell_type": "code",
      "execution_count": null,
      "id": "3df46b30",
      "metadata": {
        "id": "3df46b30",
        "outputId": "20580df8-594f-4b1c-f6a8-3f21ac09af21"
      },
      "outputs": [
        {
          "name": "stdout",
          "output_type": "stream",
          "text": [
            "torch.Size([5572, 8660])\n",
            "torch.Size([5572])\n"
          ]
        },
        {
          "data": {
            "text/plain": [
              "tensor([0, 0, 1,  ..., 0, 0, 0])"
            ]
          },
          "execution_count": 63,
          "metadata": {},
          "output_type": "execute_result"
        }
      ],
      "source": [
        "print(x.shape)\n",
        "print(y.shape)\n",
        "y"
      ]
    },
    {
      "cell_type": "code",
      "execution_count": null,
      "id": "6e89bbec",
      "metadata": {
        "id": "6e89bbec"
      },
      "outputs": [],
      "source": [
        "dataset=TensorDataset(x,y)"
      ]
    },
    {
      "cell_type": "code",
      "execution_count": null,
      "id": "9ca23a2c",
      "metadata": {
        "id": "9ca23a2c"
      },
      "outputs": [],
      "source": [
        "from sklearn.model_selection import train_test_split\n",
        "training_data,validation_data=train_test_split(dataset,test_size=0.2,random_state=42)\n",
        "train_data_loader=DataLoader(training_data,batch_size=512,shuffle=True)\n",
        "val_data_loader=DataLoader(validation_data,batch_size=512)"
      ]
    },
    {
      "cell_type": "code",
      "execution_count": null,
      "id": "17b3a36e",
      "metadata": {
        "id": "17b3a36e"
      },
      "outputs": [],
      "source": [
        "class positional_encoding(nn.Module):\n",
        "    def __init__(self,d_model,max_len=1000):\n",
        "        super().__init__()\n",
        "        pe=torch.zeros(max_len,d_model)\n",
        "        position=torch.arange(0,max_len).unsqueeze(1)\n",
        "        div_term=torch.exp(torch.arange(0,d_model,2)*-math.log(10000.0)/d_model)\n",
        "        pe[:,0::2]=torch.sin(position*div_term)\n",
        "        pe[:,1::2]=torch.cos(position*div_term)\n",
        "        pe=pe.unsqueeze(0)\n",
        "        self.register_buffer(\"pe\",pe)\n",
        "\n",
        "    def forward(self,x):\n",
        "        return x+self.pe[:,:x.size(1)]"
      ]
    },
    {
      "cell_type": "code",
      "execution_count": null,
      "id": "de6777f5",
      "metadata": {
        "id": "de6777f5"
      },
      "outputs": [],
      "source": [
        "class multihead_attention(nn.Module):\n",
        "    def __init__(self,d_model,num_heads=8):\n",
        "        super().__init__()\n",
        "        assert d_model % num_heads==0\n",
        "\n",
        "        self.d_k = d_model//num_heads\n",
        "        self.num_heads=num_heads\n",
        "        self.k_lin=nn.Linear(d_model,d_model)\n",
        "        self.q_lin=nn.Linear(d_model,d_model)\n",
        "        self.v_lin=nn.Linear(d_model,d_model)\n",
        "        self.out=nn.Linear(d_model,d_model)\n",
        "\n",
        "    def forward(self,q,k,v,mask=None):\n",
        "        batch_size=q.size(0)\n",
        "\n",
        "        def transform(x,linear):\n",
        "            x=linear(x)\n",
        "            x=x.view(batch_size,-1,self.num_heads,self.d_k)\n",
        "            return x.transpose(1,2)\n",
        "        q,k,v=transform(q,self.q_lin),transform(k,self.k_lin),transform(v,self.v_lin)\n",
        "\n",
        "        scores = torch.matmul(q,k.transpose(-2,-1)/math.sqrt(self.d_k))\n",
        "        if mask is not None:\n",
        "            scores = scores.masked_fill(mask==0,-1e9)\n",
        "        attn = torch.softmax(scores,dim=-1)\n",
        "        output = torch.matmul(attn,v)\n",
        "        output=output.transpose(1,2).contiguous().view(batch_size,-1,self.d_k*self.num_heads)\n",
        "        return self.out(output)"
      ]
    },
    {
      "cell_type": "code",
      "execution_count": null,
      "id": "858a3a92",
      "metadata": {
        "id": "858a3a92"
      },
      "outputs": [],
      "source": [
        "class feedforward(nn.Module):\n",
        "    def __init__(self,d_model,d_ff=2048,dropout=0.2):\n",
        "        super().__init__()\n",
        "        self.feature=nn.Sequential(\n",
        "        nn.Linear(d_model,d_ff),\n",
        "        nn.ReLU(),\n",
        "        nn.Dropout(dropout),\n",
        "        nn.Linear(d_ff,d_model)\n",
        "        )\n",
        "    def forward(self,x):\n",
        "        return self.feature(x)\n"
      ]
    },
    {
      "cell_type": "code",
      "execution_count": null,
      "id": "9b0419a1",
      "metadata": {
        "id": "9b0419a1"
      },
      "outputs": [],
      "source": [
        "class encoder(nn.Module):\n",
        "    def __init__(self,d_model,num_heads,d_ff,dropout=0.2):\n",
        "        super().__init__()\n",
        "        self.attn=multihead_attention(d_model,num_heads)\n",
        "        self.ff=feedforward(d_model,d_ff,dropout)\n",
        "        self.norm1=nn.LayerNorm(d_model)\n",
        "        self.norm2=nn.LayerNorm(d_model)\n",
        "        self.drop=nn.Dropout(dropout)\n",
        "    def forward(self,x,mask=None):\n",
        "        x2=self.norm1(x+self.drop(self.attn(x,x,x,mask)))\n",
        "        x=self.norm2(x2+self.drop(self.attn(self.ff(x2))))\n",
        "        return x"
      ]
    },
    {
      "cell_type": "code",
      "execution_count": null,
      "id": "59b363c5",
      "metadata": {
        "id": "59b363c5"
      },
      "outputs": [],
      "source": [
        "class encoderlayer(nn.Module):\n",
        "    def __init__(self,vocab_size,d_model,num_layers,num_heads,d_ff,max_len=512):\n",
        "        super().__init__()\n",
        "        self.embedding=nn.Embedding(vocab_size,d_model)\n",
        "        self.pe=positional_encoding(d_model,max_len)\n",
        "        self.layers=nn.ModuleList([encoder(d_model,num_heads,d_ff) for _ in range(num_layers)])\n",
        "        self.norm = nn.LayerNorm(d_model)\n",
        "\n",
        "    def forward(self,src,mask=None):\n",
        "        x=self.embedding(src)\n",
        "        x=self.pe(x)\n",
        "        for layer in self.layers:\n",
        "            x=layer(x,mask)\n",
        "        return self.norm(x)"
      ]
    },
    {
      "cell_type": "code",
      "execution_count": null,
      "id": "00bb98e8",
      "metadata": {
        "id": "00bb98e8"
      },
      "outputs": [],
      "source": [
        "from torch.amp import GradScaler,autocast\n",
        "from torch.optim.lr_scheduler import ReduceLROnPlateau"
      ]
    },
    {
      "cell_type": "code",
      "execution_count": null,
      "id": "5d5ef53c",
      "metadata": {
        "id": "5d5ef53c"
      },
      "outputs": [],
      "source": [
        "device=(\"cuda\" if torch.cuda.is_available() else \"cpu\")\n",
        "model = encoderlayer(vocab_size=vocab_size,d_model=512,num_layers=6,num_heads=8,d_ff=2048).to(device)\n",
        "model_loss=nn.CrossEntropyLoss()\n",
        "optimizer = torch.optim.Adam(model.parameters(),lr=1e-4)\n",
        "scheduler = ReduceLROnPlateau(optimizer,mode=\"min\",factor=0.5,patience=2)"
      ]
    },
    {
      "cell_type": "code",
      "execution_count": null,
      "id": "86ae84fe",
      "metadata": {
        "id": "86ae84fe"
      },
      "outputs": [],
      "source": [
        "class early_stopping():\n",
        "    def __init__(self,min_delta,patience):\n",
        "        self.min_delta=min_delta\n",
        "        self.patience=patience\n",
        "        self.counter=0\n",
        "        self.best_loss=float(\"inf\")\n",
        "        self.early_stop=False\n",
        "\n",
        "    def __call__(self,val_loss):\n",
        "        if self.min_delta>val_loss-self.best_loss:\n",
        "            counter =0\n",
        "            self.best_loss=val_loss\n",
        "        else:\n",
        "            self.counter+=1\n",
        "            if self.counter>=self.patience:\n",
        "                self.early_stop=True"
      ]
    },
    {
      "cell_type": "code",
      "execution_count": null,
      "id": "19275d9d",
      "metadata": {
        "id": "19275d9d"
      },
      "outputs": [],
      "source": [
        "epochs=50\n",
        "training_loss=[]\n",
        "training_acc=[]\n",
        "stopper=early_stopping(min_delta=1e-4,patience=4)\n",
        "scaler=GradScaler()\n",
        "\n",
        "for epoch in range(epochs):\n",
        "    runn_loss,correct,total=0,0,0\n",
        "    for x,y in val_data_loader:\n",
        "        x,y=x.to(device),y.to(device)\n",
        "        optimizer.zero_grad()\n",
        "        with autocast(\"cuda\"):\n",
        "            output=model(x)\n",
        "            loss=model_loss(output,y)\n",
        "        scaler.scale(loss).backward()\n",
        "        scaler.step(optimizer)\n",
        "        scaler.update()\n",
        "\n",
        "        runn_loss+=loss.item()\n",
        "        _,pred=torch.max(output,1)\n",
        "        correct+=(pred==y).sum().item()\n",
        "        total+=y.size(0)\n",
        "    running_loss=runn_loss/len(y)\n",
        "    acc=100*correct/total\n",
        "    training_loss.append(running_loss)\n",
        "    training_acc.append(acc)\n",
        "\n",
        "    print(f\"epoch: {epoch+1} training_loss: {running_loss:.4f} training acc {acc:.2f}\")\n",
        "\n",
        "    stopper(running_loss)\n",
        "    if stopper.early_stop:\n",
        "        print(\"early_stopping triggered\")\n",
        "        break"
      ]
    },
    {
      "cell_type": "code",
      "execution_count": null,
      "id": "e12e8f72",
      "metadata": {
        "id": "e12e8f72"
      },
      "outputs": [],
      "source": []
    }
  ],
  "metadata": {
    "kernelspec": {
      "display_name": "Python 3",
      "language": "python",
      "name": "python3"
    },
    "language_info": {
      "codemirror_mode": {
        "name": "ipython",
        "version": 3
      },
      "file_extension": ".py",
      "mimetype": "text/x-python",
      "name": "python",
      "nbconvert_exporter": "python",
      "pygments_lexer": "ipython3",
      "version": "3.10.10"
    },
    "colab": {
      "provenance": [],
      "include_colab_link": true
    }
  },
  "nbformat": 4,
  "nbformat_minor": 5
}