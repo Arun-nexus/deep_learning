{
  "cells": [
    {
      "cell_type": "markdown",
      "metadata": {
        "id": "view-in-github",
        "colab_type": "text"
      },
      "source": [
        "<a href=\"https://colab.research.google.com/github/Arun-nexus/deep_learning/blob/main/news_categorization.ipynb\" target=\"_parent\"><img src=\"https://colab.research.google.com/assets/colab-badge.svg\" alt=\"Open In Colab\"/></a>"
      ]
    },
    {
      "cell_type": "code",
      "execution_count": null,
      "id": "57ff4a04",
      "metadata": {
        "id": "57ff4a04",
        "outputId": "8c160e63-e273-481d-9d71-e523a43e30b6"
      },
      "outputs": [
        {
          "data": {
            "text/html": [
              "<div>\n",
              "<style scoped>\n",
              "    .dataframe tbody tr th:only-of-type {\n",
              "        vertical-align: middle;\n",
              "    }\n",
              "\n",
              "    .dataframe tbody tr th {\n",
              "        vertical-align: top;\n",
              "    }\n",
              "\n",
              "    .dataframe thead th {\n",
              "        text-align: right;\n",
              "    }\n",
              "</style>\n",
              "<table border=\"1\" class=\"dataframe\">\n",
              "  <thead>\n",
              "    <tr style=\"text-align: right;\">\n",
              "      <th></th>\n",
              "      <th>STORY</th>\n",
              "      <th>SECTION</th>\n",
              "    </tr>\n",
              "  </thead>\n",
              "  <tbody>\n",
              "    <tr>\n",
              "      <th>0</th>\n",
              "      <td>But the most painful was the huge reversal in ...</td>\n",
              "      <td>3</td>\n",
              "    </tr>\n",
              "    <tr>\n",
              "      <th>1</th>\n",
              "      <td>How formidable is the opposition alliance amon...</td>\n",
              "      <td>0</td>\n",
              "    </tr>\n",
              "    <tr>\n",
              "      <th>2</th>\n",
              "      <td>Most Asian currencies were trading lower today...</td>\n",
              "      <td>3</td>\n",
              "    </tr>\n",
              "    <tr>\n",
              "      <th>3</th>\n",
              "      <td>If you want to answer any question, click on ...</td>\n",
              "      <td>1</td>\n",
              "    </tr>\n",
              "    <tr>\n",
              "      <th>4</th>\n",
              "      <td>In global markets, gold prices edged up today ...</td>\n",
              "      <td>3</td>\n",
              "    </tr>\n",
              "  </tbody>\n",
              "</table>\n",
              "</div>"
            ],
            "text/plain": [
              "                                               STORY  SECTION\n",
              "0  But the most painful was the huge reversal in ...        3\n",
              "1  How formidable is the opposition alliance amon...        0\n",
              "2  Most Asian currencies were trading lower today...        3\n",
              "3  If you want to answer any question, click on ...        1\n",
              "4  In global markets, gold prices edged up today ...        3"
            ]
          },
          "execution_count": 1,
          "metadata": {},
          "output_type": "execute_result"
        }
      ],
      "source": [
        "import pandas as pd\n",
        "df=pd.read_csv(r\"C:\\Users\\Arun\\Downloads\\Data_Train.csv\\Data_Train.csv\",encoding=\"latin_1\")\n",
        "df.head()"
      ]
    },
    {
      "cell_type": "code",
      "execution_count": null,
      "id": "2c3c2f7b",
      "metadata": {
        "id": "2c3c2f7b"
      },
      "outputs": [],
      "source": [
        "from nltk.corpus import stopwords\n",
        "x=df[\"STORY\"].tolist()\n",
        "y=df[\"SECTION\"]"
      ]
    },
    {
      "cell_type": "code",
      "execution_count": null,
      "id": "1acb5bf0",
      "metadata": {
        "id": "1acb5bf0"
      },
      "outputs": [],
      "source": [
        "import nltk\n",
        "from nltk import word_tokenize,WordNetLemmatizer\n",
        "lemmatizer=WordNetLemmatizer()\n",
        "def preprocess(text):\n",
        "    token=[word_tokenize(row.lower()) for row in text]\n",
        "    text=[lemmatizer.lemmatize(word) for row in token for word in row]\n",
        "\n",
        "    return text\n",
        "tokens=preprocess(x)"
      ]
    },
    {
      "cell_type": "code",
      "execution_count": null,
      "id": "6b6dc939",
      "metadata": {
        "id": "6b6dc939"
      },
      "outputs": [],
      "source": [
        "from collections import Counter\n",
        "words=Counter(tokens)"
      ]
    },
    {
      "cell_type": "code",
      "execution_count": null,
      "id": "999044d0",
      "metadata": {
        "id": "999044d0"
      },
      "outputs": [],
      "source": [
        "dict={\"<pad>\":0,\"<unk>\":1}\n",
        "for vocab in words:\n",
        "    dict[vocab]=len(dict)\n"
      ]
    },
    {
      "cell_type": "code",
      "execution_count": null,
      "id": "ba8b1336",
      "metadata": {
        "id": "ba8b1336"
      },
      "outputs": [],
      "source": [
        "vocab_size=len(dict)\n",
        "sequence =[]\n",
        "rows=[]\n",
        "for row in x:\n",
        "    words=row.split()\n",
        "    index=[dict.get(word,dict['<unk>']) for word in words]\n",
        "    sequence.append(index)\n",
        "\n",
        "\n"
      ]
    },
    {
      "cell_type": "code",
      "execution_count": null,
      "id": "a2c3e5d5",
      "metadata": {
        "id": "a2c3e5d5"
      },
      "outputs": [],
      "source": [
        "import torch\n",
        "sequence=[torch.tensor(seq) for seq in sequence]"
      ]
    },
    {
      "cell_type": "code",
      "execution_count": null,
      "id": "eb94723d",
      "metadata": {
        "id": "eb94723d"
      },
      "outputs": [],
      "source": [
        "from torch.nn.utils.rnn import pad_sequence\n",
        "data=pad_sequence(sequence,batch_first=True,padding_value=dict['<pad>'])"
      ]
    },
    {
      "cell_type": "code",
      "execution_count": null,
      "id": "90c21afe",
      "metadata": {
        "id": "90c21afe"
      },
      "outputs": [],
      "source": [
        "data.shape\n",
        "data=data[:,:200]"
      ]
    },
    {
      "cell_type": "code",
      "execution_count": null,
      "id": "ab441ef2",
      "metadata": {
        "id": "ab441ef2"
      },
      "outputs": [],
      "source": [
        "data.shape\n",
        "y=torch.tensor(y)\n",
        "from torch.utils.data import TensorDataset, DataLoader\n",
        "dataset=TensorDataset(data,y)"
      ]
    },
    {
      "cell_type": "code",
      "execution_count": null,
      "id": "a43bd105",
      "metadata": {
        "id": "a43bd105"
      },
      "outputs": [],
      "source": [
        "from sklearn.model_selection import train_test_split\n",
        "train_data,val_data=train_test_split(dataset,test_size=0.3,random_state=42)\n",
        "train_data_loader=DataLoader(train_data,batch_size=128)\n",
        "val_data_loader=DataLoader(val_data,batch_size=128)"
      ]
    },
    {
      "cell_type": "code",
      "execution_count": null,
      "id": "039686c1",
      "metadata": {
        "id": "039686c1"
      },
      "outputs": [],
      "source": [
        "import torch.nn as nn\n",
        "class early_stopping(nn.Module):\n",
        "    def __init__(self,min_delta,patience):\n",
        "        super().__init__()\n",
        "        self.min_delta=min_delta\n",
        "        self.partience=patience\n",
        "        self.early_stop=False\n",
        "        self.best_loss=float(\"inf\")\n",
        "        self.counter=0\n",
        "\n",
        "    def __call__(self,val_loss):\n",
        "        if self.min_delta >= val_loss-self.best_loss:\n",
        "            self.counter=0\n",
        "            self.best_loss=val_loss\n",
        "        else:\n",
        "            self.counter+=1\n",
        "            if self.counter>=self.partience:\n",
        "                self.early_stop=True"
      ]
    },
    {
      "cell_type": "code",
      "execution_count": null,
      "id": "6b7e8c0d",
      "metadata": {
        "id": "6b7e8c0d"
      },
      "outputs": [],
      "source": [
        "import math\n",
        "class positional_encoding(nn.Module):\n",
        "    def __init__(self,d_model,max_len=100):\n",
        "        super().__init__()\n",
        "        pe=torch.zeros(max_len,d_model)\n",
        "        position=torch.arange(0,max_len).unsqueeze(1)\n",
        "        div_term=torch.exp(torch.arange(0,d_model,2)*(-math.log(10000.0)/d_model))\n",
        "        pe[:,0::2]=torch.sin(position*div_term)\n",
        "        pe[:,1::2]=torch.cos(position*div_term)\n",
        "        pe=pe.unsqueeze(0)\n",
        "        self.register_buffer(\"pe\",pe)\n",
        "\n",
        "    def forward(self,x):\n",
        "        return x+self.pe[:,:x.size(1)]"
      ]
    },
    {
      "cell_type": "code",
      "execution_count": null,
      "id": "42be219c",
      "metadata": {
        "id": "42be219c"
      },
      "outputs": [],
      "source": [
        "class multihead_attention(nn.Module):\n",
        "    def __init__(self,d_model,num_heads):\n",
        "        super().__init__()\n",
        "        assert d_model%num_heads==0\n",
        "\n",
        "        self.d_k=d_model//num_heads\n",
        "        self.num_heads=num_heads\n",
        "        self.q_lin=nn.Linear(d_model,d_model)\n",
        "        self.k_lin=nn.Linear(d_model,d_model)\n",
        "        self.v_lin=nn.Linear(d_model,d_model)\n",
        "        self.out=nn.Linear(d_model,d_model)\n",
        "\n",
        "    def forward(self,q,k,v,mask=None):\n",
        "        batch_size=q.size(0)\n",
        "        def transform(x,linear):\n",
        "            x=linear(x)\n",
        "            x=x.view(batch_size,-1,self.num_heads,self.d_k)\n",
        "            return x.transpose(1,2)\n",
        "        q,k,v=transform(q,self.q_lin),transform(k,self.k_lin),transform(v,self.v_lin)\n",
        "        scores=torch.matmul(q,k.transpose(-2,-1))/math.sqrt(self.d_k)\n",
        "        if mask is not None:\n",
        "            scores=scores.masked_fill(mask==0,-1e9)\n",
        "        attn=torch.softmax(scores,dim=-1)\n",
        "        output=torch.matmul(attn,v)\n",
        "        output=output.transpose(1,2).contiguous().view(batch_size,-1,self.d_k*self.num_heads)\n",
        "        return self.out(output)"
      ]
    },
    {
      "cell_type": "code",
      "execution_count": null,
      "id": "f4a74a35",
      "metadata": {
        "id": "f4a74a35"
      },
      "outputs": [],
      "source": [
        "class feedforward(nn.Module):\n",
        "    def __init__(self,d_model,d_ff=2048,drop=0.2):\n",
        "        super().__init__()\n",
        "        self.feature=nn.Sequential(\n",
        "            nn.Linear(d_model,d_ff),\n",
        "            nn.Dropout(drop),\n",
        "            nn.Linear(d_ff,d_model)\n",
        "        )\n",
        "    def forward(self,x):\n",
        "        return self.feature(x)\n"
      ]
    },
    {
      "cell_type": "code",
      "execution_count": null,
      "id": "185b64fb",
      "metadata": {
        "id": "185b64fb"
      },
      "outputs": [],
      "source": [
        "class trasnformerencoder(nn.Module):\n",
        "    def __init__(self,d_model,num_heads,d_ff,drop=0.2):\n",
        "        super().__init__()\n",
        "        self.attn=multihead_attention(d_model,num_heads)\n",
        "        self.ff=feedforward(d_model,d_ff,drop)\n",
        "        self.norm1=nn.LayerNorm(d_model)\n",
        "        self.norm2=nn.LayerNorm(d_model)\n",
        "        self.dropout=nn.Dropout(drop)\n",
        "\n",
        "    def forward(self,x,mask=None):\n",
        "        x2=self.norm1(x+self.dropout(self.attn(x,x,x,mask)))\n",
        "        x3=self.ff(x2)\n",
        "        x=self.norm2(x2+self.dropout(self.attn(x3,x3,x3,mask)))\n",
        "        return x"
      ]
    },
    {
      "cell_type": "code",
      "execution_count": null,
      "id": "6dd22346",
      "metadata": {
        "id": "6dd22346"
      },
      "outputs": [],
      "source": [
        "class encoder(nn.Module):\n",
        "    def __init__(self,vocab_size,d_model,max_len,num_layers,num_heads,d_ff,num_classes):\n",
        "        super().__init__()\n",
        "        self.embedding=nn.Embedding(vocab_size,d_model)\n",
        "        self.pe=positional_encoding(d_model,max_len)\n",
        "        self.layer=nn.ModuleList(trasnformerencoder(d_model,num_heads,d_ff,0.2) for _ in range(num_layers))\n",
        "        self.norm=nn.LayerNorm(d_model)\n",
        "        self.fc=nn.Linear(d_model,num_classes)\n",
        "\n",
        "    def forward(self,src,mask=None):\n",
        "        x=self.embedding(src)\n",
        "        x=self.pe(x)\n",
        "        for layer in self.layer:\n",
        "            x=layer(x,mask)\n",
        "            x= self.norm(x)\n",
        "            x=x.mean(dim=1)\n",
        "            return self.fc(x)"
      ]
    },
    {
      "cell_type": "code",
      "execution_count": null,
      "id": "c55f51b2",
      "metadata": {
        "id": "c55f51b2"
      },
      "outputs": [],
      "source": [
        "device=(\"cuda\" if torch.cuda.is_available() else \"cpu\")\n",
        "model=encoder(vocab_size=vocab_size,d_model=512,max_len=200,num_layers=6,num_heads=8,d_ff=2048,num_classes=len(set(y.tolist()))).to(device)\n",
        "model_loss=nn.CrossEntropyLoss()\n",
        "optimizer=torch.optim.Adam(model.parameters(),lr=0.0001)\n",
        "scheduler=torch.optim.lr_scheduler.ReduceLROnPlateau(optimizer,mode=\"min\",factor=0.5,patience=2)"
      ]
    },
    {
      "cell_type": "code",
      "execution_count": null,
      "id": "c3aa7c73",
      "metadata": {
        "id": "c3aa7c73"
      },
      "outputs": [],
      "source": [
        "from torch.amp import GradScaler,autocast"
      ]
    },
    {
      "cell_type": "code",
      "execution_count": null,
      "id": "22852ee2",
      "metadata": {
        "id": "22852ee2",
        "outputId": "99103f08-3ea4-4b47-869e-477b4554ad92"
      },
      "outputs": [
        {
          "name": "stdout",
          "output_type": "stream",
          "text": [
            "epoch: 1 training_loss: 0.5745 training acc:0.43 validation_loss: 0.1923 validation_acc: 0.47 \n",
            "epoch: 2 training_loss: 0.5589 training acc:0.47 validation_loss: 0.1895 validation_acc: 0.48 \n",
            "epoch: 3 training_loss: 0.5518 training acc:0.48 validation_loss: 0.1871 validation_acc: 0.50 \n",
            "epoch: 4 training_loss: 0.5413 training acc:0.50 validation_loss: 0.1831 validation_acc: 0.51 \n",
            "epoch: 5 training_loss: 0.5242 training acc:0.52 validation_loss: 0.1772 validation_acc: 0.53 \n",
            "epoch: 6 training_loss: 0.4957 training acc:0.56 validation_loss: 0.1624 validation_acc: 0.59 \n",
            "epoch: 7 training_loss: 0.4238 training acc:0.63 validation_loss: 0.1319 validation_acc: 0.67 \n",
            "epoch: 8 training_loss: 0.3447 training acc:0.71 validation_loss: 0.1147 validation_acc: 0.71 \n",
            "epoch: 9 training_loss: 0.2894 training acc:0.76 validation_loss: 0.1002 validation_acc: 0.75 \n",
            "epoch: 10 training_loss: 0.2523 training acc:0.80 validation_loss: 0.0900 validation_acc: 0.78 \n",
            "epoch: 11 training_loss: 0.2231 training acc:0.82 validation_loss: 0.0825 validation_acc: 0.81 \n",
            "epoch: 12 training_loss: 0.2012 training acc:0.84 validation_loss: 0.0779 validation_acc: 0.82 \n",
            "epoch: 13 training_loss: 0.1823 training acc:0.86 validation_loss: 0.0749 validation_acc: 0.83 \n",
            "epoch: 14 training_loss: 0.1645 training acc:0.87 validation_loss: 0.0728 validation_acc: 0.84 \n",
            "epoch: 15 training_loss: 0.1474 training acc:0.89 validation_loss: 0.0718 validation_acc: 0.85 \n",
            "epoch: 16 training_loss: 0.1311 training acc:0.90 validation_loss: 0.0727 validation_acc: 0.85 \n",
            "epoch: 17 training_loss: 0.1162 training acc:0.91 validation_loss: 0.0746 validation_acc: 0.84 \n",
            "epoch: 18 training_loss: 0.1038 training acc:0.93 validation_loss: 0.0765 validation_acc: 0.84 \n",
            "epoch: 19 training_loss: 0.0945 training acc:0.93 validation_loss: 0.0783 validation_acc: 0.84 \n",
            "early_stopping triggered\n"
          ]
        }
      ],
      "source": [
        "epochs=50\n",
        "stopper=early_stopping(1e-4,4)\n",
        "training_loss_store=[]\n",
        "validation_loss_store=[]\n",
        "training_accuracy_store=[]\n",
        "validation_accuracy_store=[]\n",
        "scaler=GradScaler()\n",
        "\n",
        "for epoch in range(epochs):\n",
        "    running,total,correct=0,0,0\n",
        "    for x,y in train_data_loader:\n",
        "        x,y=x.to(device),y.to(device)\n",
        "\n",
        "        optimizer.zero_grad()\n",
        "        with autocast(\"cuda\"):\n",
        "            output=model(x)\n",
        "            loss=model_loss(output,y)\n",
        "        scaler.scale(loss).backward()\n",
        "        torch.nn.utils.clip_grad_norm_(model.parameters(), max_norm=1.0)\n",
        "        scaler.step(optimizer)\n",
        "        scaler.update()\n",
        "        running+=loss.item()\n",
        "        _,pred=torch.max(output,1)\n",
        "        correct+=(pred==y).sum().item()\n",
        "        total+=y.size(0)\n",
        "        # print(torch.isnan(pred).any(), torch.isnan(y).any())\n",
        "\n",
        "    training_loss=running/len(y)\n",
        "    training_acc=correct/total\n",
        "    training_loss_store.append(training_loss)\n",
        "    training_accuracy_store.append(training_acc)\n",
        "\n",
        "    model.eval()\n",
        "    vrunning,vtotal,vcorrect=0,0,0\n",
        "    for x,y in val_data_loader:\n",
        "        x,y=x.to(device),y.to(device)\n",
        "\n",
        "        optimizer.zero_grad()\n",
        "        with autocast(\"cuda\"):\n",
        "            voutput=model(x)\n",
        "            vloss=model_loss(voutput,y)\n",
        "\n",
        "        vrunning+=vloss.item()\n",
        "        _,vpred=torch.max(voutput,1)\n",
        "        vcorrect+=(vpred==y).sum().item()\n",
        "        vtotal+=y.size(0)\n",
        "    val_loss=vrunning/len(y)\n",
        "    val_acc=vcorrect/vtotal\n",
        "    validation_loss_store.append(val_loss)\n",
        "    validation_accuracy_store.append(val_acc)\n",
        "\n",
        "    print(f\"epoch: {epoch+1} training_loss: {training_loss:.4f} training acc:{training_acc:.2f} validation_loss: {val_loss:.4f} validation_acc: {val_acc:.2f} \")\n",
        "    stopper(val_loss)\n",
        "    if stopper.early_stop:\n",
        "        print(\"early_stopping triggered\")\n",
        "        break"
      ]
    },
    {
      "cell_type": "code",
      "execution_count": null,
      "id": "7d47405e",
      "metadata": {
        "id": "7d47405e",
        "outputId": "1c3cd522-8ae3-4f1d-dbd9-bcf0b853d8f6"
      },
      "outputs": [
        {
          "data": {
            "image/png": "[encoded data removed]",
            "text/plain": [
              "<Figure size 640x480 with 1 Axes>"
            ]
          },
          "metadata": {},
          "output_type": "display_data"
        },
        {
          "data": {
            "image/png": "[encoded data removed]",
            "text/plain": [
              "<Figure size 640x480 with 1 Axes>"
            ]
          },
          "metadata": {},
          "output_type": "display_data"
        }
      ],
      "source": [
        "import matplotlib.pyplot as plt\n",
        "\n",
        "plt.plot(training_loss_store,color=\"red\")\n",
        "plt.plot(validation_loss_store,color=\"blue\")\n",
        "plt.show()\n",
        "plt.plot(training_accuracy_store,color=\"red\")\n",
        "plt.plot(validation_accuracy_store,color=\"blue\")\n",
        "plt.show()"
      ]
    },
    {
      "cell_type": "code",
      "execution_count": null,
      "id": "67131f6e",
      "metadata": {
        "id": "67131f6e",
        "outputId": "039ece3c-36fa-498b-c13f-d77581e44463"
      },
      "outputs": [
        {
          "name": "stdout",
          "output_type": "stream",
          "text": [
            "tensor([3], device='cuda:0')\n"
          ]
        }
      ],
      "source": [
        "new_data=\"Most Asian currencies were trading lower today.\"\n",
        "max_len=200\n",
        "process_data=preprocess(new_data)\n",
        "new_sequence = [dict.get(word, dict['<unk>']) for word in new_data.split()]\n",
        "if len(new_sequence) < max_len:\n",
        "    new_sequence += [dict['<pad>']] * (max_len - len(new_sequence))\n",
        "else:\n",
        "    new_sequence = new_sequence[:max_len]\n",
        "\n",
        "input_tensor = torch.tensor(new_sequence).unsqueeze(0).to(device)\n",
        "output = model(input_tensor)\n",
        "pred = torch.argmax(output, dim=1)\n",
        "print(pred)"
      ]
    },
    {
      "cell_type": "code",
      "execution_count": null,
      "id": "f66d1678",
      "metadata": {
        "id": "f66d1678"
      },
      "outputs": [],
      "source": []
    }
  ],
  "metadata": {
    "kernelspec": {
      "display_name": "Python 3",
      "language": "python",
      "name": "python3"
    },
    "language_info": {
      "codemirror_mode": {
        "name": "ipython",
        "version": 3
      },
      "file_extension": ".py",
      "mimetype": "text/x-python",
      "name": "python",
      "nbconvert_exporter": "python",
      "pygments_lexer": "ipython3",
      "version": "3.10.10"
    },
    "colab": {
      "provenance": [],
      "include_colab_link": true
    }
  },
  "nbformat": 4,
  "nbformat_minor": 5
}