{
  "nbformat": 4,
  "nbformat_minor": 0,
  "metadata": {
    "colab": {
      "provenance": [],
      "gpuType": "T4",
      "authorship_tag": "ABX9TyNvb23JAi8qGhUWXuKcJEi8",
      "include_colab_link": true
    },
    "kernelspec": {
      "name": "python3",
      "display_name": "Python 3"
    },
    "language_info": {
      "name": "python"
    },
    "accelerator": "GPU"
  },
  "cells": [
    {
      "cell_type": "markdown",
      "metadata": {
        "id": "view-in-github",
        "colab_type": "text"
      },
      "source": [
        "<a href=\"https://colab.research.google.com/github/Arun-nexus/nexux/blob/main/nexrt_word.ipynb\" target=\"_parent\"><img src=\"https://colab.research.google.com/assets/colab-badge.svg\" alt=\"Open In Colab\"/></a>"
      ]
    },
    {
      "cell_type": "code",
      "source": [
        "from google.colab import files\n",
        "files.upload()  # upload your kaggle.json file\n",
        "\n",
        "!mkdir -p ~/.kaggle\n",
        "!cp kaggle.json ~/.kaggle/\n",
        "!chmod 600 ~/.kaggle/kaggle.json\n"
      ],
      "metadata": {
        "id": "sJJM_23bwJ1h"
      },
      "execution_count": null,
      "outputs": []
    },
    {
      "cell_type": "code",
      "source": [
        "! kaggle datasets download -d vinayaks0n1/imdb-tv-show-reviews"
      ],
      "metadata": {
        "id": "sIBDItjwwuR_"
      },
      "execution_count": null,
      "outputs": []
    },
    {
      "cell_type": "code",
      "source": [
        "import zipfile\n",
        "with zipfile.ZipFile(\"imdb-tv-show-reviews.zip\",\"r\") as zip_ref:\n",
        "  zip_ref.extractall(\"dataset\")"
      ],
      "metadata": {
        "id": "DihW8qCkwR4z"
      },
      "execution_count": null,
      "outputs": []
    },
    {
      "cell_type": "code",
      "source": [
        "dataset=\"dataset\""
      ],
      "metadata": {
        "id": "qtKQYfFAxrel"
      },
      "execution_count": null,
      "outputs": []
    },
    {
      "cell_type": "code",
      "source": [
        "import pandas as pd\n",
        "from tensorflow.keras.preprocessing.text import Tokenizer\n",
        "import re"
      ],
      "metadata": {
        "id": "6uvQe2oCxu8y"
      },
      "execution_count": null,
      "outputs": []
    },
    {
      "cell_type": "code",
      "source": [
        "df=pd.read_csv(\"/content/dataset/imdb_tvshows.csv\")"
      ],
      "metadata": {
        "id": "LgQvt6ArxuWM"
      },
      "execution_count": null,
      "outputs": []
    },
    {
      "cell_type": "code",
      "source": [
        "df.head()"
      ],
      "metadata": {
        "id": "QyCSNowTzN4e"
      },
      "execution_count": null,
      "outputs": []
    },
    {
      "cell_type": "code",
      "source": [
        "def clean(text):\n",
        "  text=str(text).lower()\n",
        "  text=re.sub(r\"[^a-zA-Z\\s]\",\"\",text)\n",
        "  return text\n",
        "df[\"Review\"]=df[\"Review\"].apply(clean)"
      ],
      "metadata": {
        "id": "qC1FvYCLzQBq"
      },
      "execution_count": null,
      "outputs": []
    },
    {
      "cell_type": "code",
      "source": [
        "data=\" \".join(df[\"Review\"].to_list())"
      ],
      "metadata": {
        "id": "6CPBCe_m0NqI"
      },
      "execution_count": null,
      "outputs": []
    },
    {
      "cell_type": "code",
      "source": [
        "token=Tokenizer(num_words=10000)\n",
        "token.fit_on_texts([data])\n",
        "total_words=10000"
      ],
      "metadata": {
        "id": "OkhaV7e_0Z6i"
      },
      "execution_count": null,
      "outputs": []
    },
    {
      "cell_type": "code",
      "source": [
        "tokens=token.texts_to_sequences([data])[0]\n",
        "tokens"
      ],
      "metadata": {
        "id": "l-XFNTzK0qDb"
      },
      "execution_count": null,
      "outputs": []
    },
    {
      "cell_type": "code",
      "source": [
        "from collections.abc import Sequence\n",
        "input_sequence=[]\n",
        "\n",
        "for i in range(1,total_words):\n",
        "  Sequence=tokens[:i+1]\n",
        "  input_sequence.append(Sequence)\n"
      ],
      "metadata": {
        "id": "9A-AKeNu1Tq9"
      },
      "execution_count": null,
      "outputs": []
    },
    {
      "cell_type": "code",
      "source": [
        "total_words"
      ],
      "metadata": {
        "id": "p7u3mC-C9cp-"
      },
      "execution_count": null,
      "outputs": []
    },
    {
      "cell_type": "code",
      "source": [
        "lenght=max([len(seq) for seq in input_sequence])"
      ],
      "metadata": {
        "id": "2M50Xp5X2Mnx"
      },
      "execution_count": null,
      "outputs": []
    },
    {
      "cell_type": "code",
      "source": [
        "from tensorflow.keras.preprocessing.sequence import pad_sequences"
      ],
      "metadata": {
        "id": "KJixe0hb2vZR"
      },
      "execution_count": null,
      "outputs": []
    },
    {
      "cell_type": "code",
      "source": [
        "pad_sequence=pad_sequences(input_sequence,maxlen=lenght,padding=\"pre\")"
      ],
      "metadata": {
        "id": "Ndw7gegq25bG"
      },
      "execution_count": null,
      "outputs": []
    },
    {
      "cell_type": "code",
      "source": [
        "pad_sequence"
      ],
      "metadata": {
        "id": "uhnYKISB3KF0"
      },
      "execution_count": null,
      "outputs": []
    },
    {
      "cell_type": "code",
      "source": [
        "x=pad_sequence[:,:-1]\n",
        "y=pad_sequence[:,-1]"
      ],
      "metadata": {
        "id": "bc9aZtwa3HhE"
      },
      "execution_count": null,
      "outputs": []
    },
    {
      "cell_type": "code",
      "source": [
        "x"
      ],
      "metadata": {
        "id": "6fbtDR503YK2"
      },
      "execution_count": null,
      "outputs": []
    },
    {
      "cell_type": "code",
      "source": [
        "y"
      ],
      "metadata": {
        "id": "mPQqTNQw3aNc"
      },
      "execution_count": null,
      "outputs": []
    },
    {
      "cell_type": "code",
      "source": [
        "from tensorflow.keras.utils import to_categorical"
      ],
      "metadata": {
        "id": "VUQlCwhH3aJ2"
      },
      "execution_count": null,
      "outputs": []
    },
    {
      "cell_type": "code",
      "source": [
        "y=to_categorical(y,num_classes=total_words)"
      ],
      "metadata": {
        "id": "zgkANzNh3aFW"
      },
      "execution_count": null,
      "outputs": []
    },
    {
      "cell_type": "code",
      "source": [
        "from tensorflow.keras import Sequential\n",
        "from tensorflow.keras.layers import Embedding,Dense,LSTM,Dropout\n",
        "from tensorflow.keras.callbacks import EarlyStopping"
      ],
      "metadata": {
        "id": "a3Y5q5tF3aCi"
      },
      "execution_count": null,
      "outputs": []
    },
    {
      "cell_type": "code",
      "source": [
        "x.shape"
      ],
      "metadata": {
        "id": "hSJHEHg64noC"
      },
      "execution_count": null,
      "outputs": []
    },
    {
      "cell_type": "code",
      "source": [
        "model=Sequential()\n",
        "model.add(Embedding(input_dim=total_words,output_dim=64))\n",
        "model.add(LSTM(100))\n",
        "model.add(Dense(total_words,activation=\"softmax\"))\n",
        "\n"
      ],
      "metadata": {
        "id": "IZbO-koD4Ux1"
      },
      "execution_count": null,
      "outputs": []
    },
    {
      "cell_type": "code",
      "source": [
        "model.compile(loss=\"categorical_crossentropy\",optimizer=\"adam\",metrics=[\"accuracy\"])\n",
        "model.build(input_shape=(None,x.shape[1]))\n",
        "model.summary()"
      ],
      "metadata": {
        "id": "HFNcydE55Zt-"
      },
      "execution_count": null,
      "outputs": []
    },
    {
      "cell_type": "code",
      "source": [
        "stopper=EarlyStopping(\n",
        "    patience=3,\n",
        "    monitor=\"val_accuracy\",\n",
        "    verbose=1,\n",
        "    restore_best_weights=True\n",
        ")"
      ],
      "metadata": {
        "id": "7lUWb6uR5eN9"
      },
      "execution_count": null,
      "outputs": []
    },
    {
      "cell_type": "code",
      "source": [
        "hist=model.fit(x,y,epochs=100,callbacks=stopper,validation_split=0.3)"
      ],
      "metadata": {
        "id": "KyIZ_QhE8skk"
      },
      "execution_count": null,
      "outputs": []
    },
    {
      "cell_type": "code",
      "source": [],
      "metadata": {
        "id": "g2rRT5wL82hB"
      },
      "execution_count": null,
      "outputs": []
    }
  ]
}