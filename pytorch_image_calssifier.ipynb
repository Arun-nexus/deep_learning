{
  "nbformat": 4,
  "nbformat_minor": 0,
  "metadata": {
    "colab": {
      "provenance": [],
      "gpuType": "T4",
      "authorship_tag": "ABX9TyO72TxTMuDbMJYzSJW+FEH0",
      "include_colab_link": true
    },
    "kernelspec": {
      "name": "python3",
      "display_name": "Python 3"
    },
    "language_info": {
      "name": "python"
    },
    "accelerator": "GPU"
  },
  "cells": [
    {
      "cell_type": "markdown",
      "metadata": {
        "id": "view-in-github",
        "colab_type": "text"
      },
      "source": [
        "<a href=\"https://colab.research.google.com/github/Arun-nexus/deep_learning/blob/main/pytorch_image_calssifier.ipynb\" target=\"_parent\"><img src=\"https://colab.research.google.com/assets/colab-badge.svg\" alt=\"Open In Colab\"/></a>"
      ]
    },
    {
      "cell_type": "code",
      "source": [
        "from google.colab import drive\n",
        "drive.mount(\"/content/drive\")"
      ],
      "metadata": {
        "colab": {
          "base_uri": "https://localhost:8080/"
        },
        "id": "rsivSDWgp1MG",
        "outputId": "8502d829-a934-4730-b025-186c0fc8dc58"
      },
      "execution_count": null,
      "outputs": [
        {
          "output_type": "stream",
          "name": "stdout",
          "text": [
            "Mounted at /content/drive\n"
          ]
        }
      ]
    },
    {
      "cell_type": "code",
      "source": [
        "!mkdir -p ~/.kaggle\n",
        "!cp /content/drive/MyDrive/kaggle/kaggle.json ~/.kaggle\n",
        "!chmod 600 ~/.kaggle/kaggle.json"
      ],
      "metadata": {
        "id": "oCIDmIsjp1Ot"
      },
      "execution_count": null,
      "outputs": []
    },
    {
      "cell_type": "code",
      "source": [],
      "metadata": {
        "id": "WJ6pa8iw1L30"
      },
      "execution_count": null,
      "outputs": []
    },
    {
      "cell_type": "code",
      "source": [
        "!kaggle datasets download -d sharansmenon/animals141"
      ],
      "metadata": {
        "colab": {
          "base_uri": "https://localhost:8080/"
        },
        "id": "dd6pd7icp1Q_",
        "outputId": "0cf686d4-7f72-460a-f64b-45f66211b2f5"
      },
      "execution_count": null,
      "outputs": [
        {
          "output_type": "stream",
          "name": "stdout",
          "text": [
            "Dataset URL: https://www.kaggle.com/datasets/sharansmenon/animals141\n",
            "License(s): copyright-authors\n",
            "Downloading animals141.zip to /content\n",
            "  0% 0.00/60.5M [00:00<?, ?B/s]\n",
            "100% 60.5M/60.5M [00:00<00:00, 893MB/s]\n"
          ]
        }
      ]
    },
    {
      "cell_type": "code",
      "source": [
        "import zipfile\n",
        "with zipfile.ZipFile(\"animals141.zip\",\"r\") as zip:\n",
        "  zip.extractall(\"animal\")"
      ],
      "metadata": {
        "id": "tdcSaww2p1S9"
      },
      "execution_count": null,
      "outputs": []
    },
    {
      "cell_type": "code",
      "source": [],
      "metadata": {
        "id": "d-seQ0yiMHHa"
      },
      "execution_count": null,
      "outputs": []
    },
    {
      "cell_type": "code",
      "source": [
        "from torchvision import transforms"
      ],
      "metadata": {
        "id": "MRGN8736p1V7"
      },
      "execution_count": null,
      "outputs": []
    },
    {
      "cell_type": "code",
      "source": [
        "augmentation=transforms.Compose([\n",
        "    transforms.Resize((128,128)),\n",
        "    transforms.RandomRotation(15),\n",
        "    transforms.RandomHorizontalFlip(),\n",
        "    transforms.ToTensor()\n",
        "])"
      ],
      "metadata": {
        "id": "yFl3KxersW4K"
      },
      "execution_count": null,
      "outputs": []
    },
    {
      "cell_type": "code",
      "source": [
        "from torch.utils.data import DataLoader\n",
        "from torchvision.datasets import ImageFolder"
      ],
      "metadata": {
        "id": "lGTscUA7tzs2"
      },
      "execution_count": null,
      "outputs": []
    },
    {
      "cell_type": "code",
      "source": [
        "dataset=\"/content/animal/dataset/dataset\"\n",
        "training_data = ImageFolder(root=dataset,transform=augmentation)"
      ],
      "metadata": {
        "id": "jAr4Jo6luMxF"
      },
      "execution_count": null,
      "outputs": []
    },
    {
      "cell_type": "code",
      "source": [
        "train_size=int(0.7*len(training_data))\n",
        "val_size=len(training_data)-train_size"
      ],
      "metadata": {
        "id": "JVU8koResWQD"
      },
      "execution_count": null,
      "outputs": []
    },
    {
      "cell_type": "code",
      "source": [
        "from torch.utils.data import random_split"
      ],
      "metadata": {
        "id": "GHHEQjqXtYDa"
      },
      "execution_count": null,
      "outputs": []
    },
    {
      "cell_type": "code",
      "source": [
        "train_data,val_data=random_split(training_data,[train_size,val_size])"
      ],
      "metadata": {
        "id": "uHaZ7aaCtJUG"
      },
      "execution_count": null,
      "outputs": []
    },
    {
      "cell_type": "code",
      "source": [
        "train_loader=DataLoader(train_data,shuffle=True,batch_size=1024,num_workers=2)\n",
        "val_loader=DataLoader(val_data,batch_size=1024,num_workers=2)"
      ],
      "metadata": {
        "id": "LLjawJFntzI2"
      },
      "execution_count": null,
      "outputs": []
    },
    {
      "cell_type": "code",
      "source": [
        "from torch import nn"
      ],
      "metadata": {
        "id": "LGt2VNAXtPeO"
      },
      "execution_count": null,
      "outputs": []
    },
    {
      "cell_type": "code",
      "source": [
        "class animal_cnn(nn.Module):\n",
        "  def __init__(self,num_classes=151):\n",
        "    super(animal_cnn,self).__init__()\n",
        "    self.feature=nn.Sequential(\n",
        "    nn.Conv2d(3,32,3,padding=1),nn.ReLU(),\n",
        "    nn.MaxPool2d(2,2),\n",
        "    nn.Conv2d(32,64,3,padding=1),nn.ReLU(),\n",
        "    nn.MaxPool2d(2,2),\n",
        "    nn.Conv2d(64,128,3,padding=1),nn.ReLU(),\n",
        "    nn.MaxPool2d(2,2),\n",
        "    nn.Conv2d(128,256,3,padding=1),nn.ReLU(),\n",
        "    nn.MaxPool2d(2,2),\n",
        "    nn.Flatten(),\n",
        "    nn.Linear(256*8*8,256),\n",
        "    nn.Dropout(0.25),\n",
        "    nn.Linear(256,num_classes)\n",
        "    )\n",
        "  def forward(self,x):\n",
        "    x = self.feature(x)\n",
        "    return x"
      ],
      "metadata": {
        "id": "Elxi6yqMtnF4"
      },
      "execution_count": null,
      "outputs": []
    },
    {
      "cell_type": "code",
      "source": [
        "import torch"
      ],
      "metadata": {
        "id": "fW_RZktKz69s"
      },
      "execution_count": null,
      "outputs": []
    },
    {
      "cell_type": "code",
      "source": [
        "device=torch.device(\"cuda\" if torch.cuda.is_available() else \"cpu\")\n",
        "print(device)"
      ],
      "metadata": {
        "colab": {
          "base_uri": "https://localhost:8080/"
        },
        "id": "ynG8KTu7zwQU",
        "outputId": "b6ec6ffb-1fdb-4b67-c571-8de657b01a4a"
      },
      "execution_count": null,
      "outputs": [
        {
          "output_type": "stream",
          "name": "stdout",
          "text": [
            "cpu\n"
          ]
        }
      ]
    },
    {
      "cell_type": "code",
      "source": [],
      "metadata": {
        "id": "GU6iH-i0QQ_7"
      },
      "execution_count": null,
      "outputs": []
    },
    {
      "cell_type": "code",
      "source": [
        "from torch.optim.lr_scheduler import ReduceLROnPlateau"
      ],
      "metadata": {
        "id": "84zXV6bmP-Ch"
      },
      "execution_count": null,
      "outputs": []
    },
    {
      "cell_type": "code",
      "source": [
        "model=animal_cnn(num_classes=151).to(device)\n",
        "model_loss=nn.CrossEntropyLoss()\n",
        "optim=torch.optim.Adam(model.parameters(),lr=1e-4)\n",
        "scheduler=ReduceLROnPlateau(optim,mode=\"min\",patience=)"
      ],
      "metadata": {
        "id": "ZwRB6GLmywZN"
      },
      "execution_count": null,
      "outputs": []
    },
    {
      "cell_type": "code",
      "source": [
        "class earlystopping():\n",
        "  def __init__(self,min_delta,patience=3):\n",
        "    self.patience=patience\n",
        "    self.min_delta=min_delta\n",
        "    self.early_stop=False\n",
        "    self.best_loss=float(\"inf\")\n",
        "    self.counter=0\n",
        "\n",
        "  def __call__(self,val_loss):\n",
        "    if val_loss < self.best_loss - self.min_delta:\n",
        "      self.best_loss=val_loss\n",
        "      self.counter=0\n",
        "    else:\n",
        "      self.counter+=1\n",
        "      if self.counter>=self.patience:\n",
        "        self.early_stop=True"
      ],
      "metadata": {
        "id": "nvb8amj30Bh5"
      },
      "execution_count": null,
      "outputs": []
    },
    {
      "cell_type": "code",
      "source": [
        "epochs = 50\n",
        "training_loss = []\n",
        "accuracy = []\n",
        "val_losses = []\n",
        "val_accuracy = []\n",
        "\n",
        "earlystopping_callback = earlystopping(min_delta=0.01, patience=5)\n",
        "\n",
        "for epoch in range(epochs):\n",
        "    model.train()\n",
        "    running_loss = 0\n",
        "    mcorrect, mtotal = 0, 0\n",
        "\n",
        "    for images, labels in train_loader:\n",
        "        images, labels = images.to(device), labels.to(device)\n",
        "\n",
        "        outputs = model(images)\n",
        "        loss = model_loss(outputs, labels)\n",
        "\n",
        "        optim.zero_grad()\n",
        "        loss.backward()\n",
        "        optim.step()\n",
        "\n",
        "        running_loss += loss.item()\n",
        "\n",
        "        _, preds = torch.max(outputs, 1)\n",
        "        mcorrect += (preds == labels).sum().item()\n",
        "        mtotal += labels.size(0)\n",
        "\n",
        "    train_loss = running_loss / len(train_loader)\n",
        "    acc = 100 * mcorrect / mtotal\n",
        "    training_loss.append(train_loss)\n",
        "    accuracy.append(acc)\n",
        "\n",
        "    model.eval()\n",
        "    val_running_loss = 0\n",
        "    correct, total = 0, 0\n",
        "\n",
        "    with torch.no_grad():\n",
        "        for images, labels in val_loader:\n",
        "            images, labels = images.to(device), labels.to(device)\n",
        "            outputs = model(images)\n",
        "            v_loss = model_loss(outputs, labels)\n",
        "\n",
        "            val_running_loss += v_loss.item()\n",
        "            _, predicted = torch.max(outputs, 1)\n",
        "            correct += (predicted == labels).sum().item()\n",
        "            total += labels.size(0)\n",
        "\n",
        "    val_loss = val_running_loss / len(val_loader)\n",
        "    val_acc = 100 * correct / total\n",
        "    val_losses.append(val_loss)\n",
        "    val_accuracy.append(val_acc)\n",
        "\n",
        "    print(f\"Epoch {epoch+1}: Train Acc={acc:.2f}%, Train Loss={train_loss:.4f} | Val Acc={val_acc:.2f}%, Val Loss={val_loss:.4f}\")\n",
        "\n",
        "    earlystopping_callback(val_loss)\n",
        "    if earlystopping_callback.early_stop:\n",
        "        print(\"Early stopping triggered\")\n",
        "        break"
      ],
      "metadata": {
        "id": "lGr9buHE2JuW"
      },
      "execution_count": null,
      "outputs": []
    },
    {
      "cell_type": "code",
      "source": [
        "from google.colab import files\n",
        "new_data=files.upload()"
      ],
      "metadata": {
        "id": "nstlFn1U7k8X"
      },
      "execution_count": null,
      "outputs": []
    },
    {
      "cell_type": "code",
      "source": [
        "from PIL import Image"
      ],
      "metadata": {
        "id": "Ggs4pySLA7-t"
      },
      "execution_count": null,
      "outputs": []
    },
    {
      "cell_type": "code",
      "source": [
        "new_image=Image.open(\"/content/download (1).jpg\")"
      ],
      "metadata": {
        "id": "lgwZxpiKBK_D"
      },
      "execution_count": null,
      "outputs": []
    },
    {
      "cell_type": "code",
      "source": [
        "import matplotlib.pyplot as plt\n",
        "plt.imshow(new_image)"
      ],
      "metadata": {
        "id": "3lTIYmW8BWyb"
      },
      "execution_count": null,
      "outputs": []
    },
    {
      "cell_type": "code",
      "source": [
        "transform = transforms.Compose([\n",
        "    transforms.Resize((128, 128)),\n",
        "    transforms.ToTensor()\n",
        "])\n",
        "\n",
        "new_image_tensor =(transform(new_image).unsqueeze(0)).to(device)"
      ],
      "metadata": {
        "id": "nsifBG4UBdiH"
      },
      "execution_count": null,
      "outputs": []
    },
    {
      "cell_type": "code",
      "source": [
        "model.eval()\n",
        "with torch.no_grad():\n",
        "  out=model(new_image_tensor)\n",
        "  idx=torch.max(out,1).indices.item()\n",
        "name=training_data.classes[idx]"
      ],
      "metadata": {
        "id": "I7D-g42yBns9"
      },
      "execution_count": null,
      "outputs": []
    },
    {
      "cell_type": "code",
      "source": [],
      "metadata": {
        "id": "PSjpjcufMeGB"
      },
      "execution_count": null,
      "outputs": []
    },
    {
      "cell_type": "code",
      "metadata": {
        "colab": {
          "base_uri": "https://localhost:8080/"
        },
        "id": "d21ad876",
        "outputId": "d13b019b-31ff-41f9-d375-ccf54c274d15"
      },
      "source": [
        "import json\n",
        "\n",
        "file_path = \"/content/animal/translation.json\"\n",
        "\n",
        "with open(file_path, 'r') as f:\n",
        "  translation_data = json.load(f)\n",
        "  dictionary=translation_data\n",
        "  print(dictionary)"
      ],
      "execution_count": null,
      "outputs": [
        {
          "output_type": "stream",
          "name": "stdout",
          "text": [
            "{'equus-quagga': 'Plains Zebra', 'panthera-leo': 'Lion', 'panthera-onca': 'Jaguar', 'ursus-arctos-horribilis': 'Grizzly Bear', 'megaptera-novaeangliae': 'Humpback Whale', 'panthera-tigris': 'Tiger', 'haliaeetus-leucocephalus': 'Bald Eagle', 'tyrannosaurus-rex': 'T. Rex', 'diplodocus': 'Diplodocus', 'panthera-pardus': 'Leopard', 'homo-sapiens': 'Modern Humans', 'phoebetria-fusca': 'Sooty Albatross', 'bos-taurus': 'Domestic Cow', 'gallus-gallus-domesticus': 'Chicken', 'ovis-aries': 'Sheep', 'ceratotherium-simum': 'White Rhino', 'loxodonta-africana': 'African Bush Elephant', 'tursiops-truncatus': 'Common Bottlenose Dolphin', 'orcinus-orca': 'Killer Whale', 'carcharodon-carcharias': 'Great White Shark', 'canis-lupus-familiaris': 'Domestic Dog', 'felis-catus': 'Cat', 'salmo-salar': 'Salmon', 'balaenoptera-musculus': 'Blue Whale', 'giraffa-camelopardalis': 'Northern Giraffe', 'ophiophagus-hannah': 'King Cobra', 'crotalus-atrox': 'Western diamondback rattlesnake', 'varanus-komodoensis': 'Komodo Dragon', 'pterois-mombasae': 'African Lionfish', 'spinosaurus-aegyptiacus': 'Spinosaurus', 'crocodylus-niloticus': 'Crocodile', 'falco-peregrinus': 'Peregrine Falcon', 'gorilla-gorilla': 'Gorilla', 'pongo-abelii': 'Orangutan', 'gavialis-gangeticus': 'Gharial', 'acinonyx-jubatus': 'Cheetah', 'canis-lupus': 'Wolf', 'ursus-maritimus': 'Polar Bear', 'hippopotamus-amphibius': 'Hippopotamus', 'iguana-iguana': 'Green Iguana', 'iguanodon-bernissartensis': 'Iguanadon', 'stegosaurus-stenops': 'Stegosaurus', 'triceratops-horridus': 'Triceratops', 'pteranodon-longiceps': 'Pteranodon', 'ankylosaurus-magniventris': 'Ankylosaurus', 'agalychnis-callidryas': 'Tree Frog', 'dendrobatidae': 'Poison Dart Frog', 'mellisuga-helenae': 'Bee Hummingbird', 'eudocimus-albus': 'American white ibis', 'sphyrna-mokarran': 'Great hammerhead shark', 'trilobita': 'Trilobites', 'enteroctopus-dofleini': 'Giant Pacific octopus', 'coelacanthiformes': 'Coelacanth', 'equus-caballus': 'Horse', 'odobenus-rosmarus': 'Walrus', 'physeter-macrocephalus': 'Sperm Whale', 'dugong-dugon': 'Dugong', 'eunectes-murinus': 'Green Anaconda', 'malayopython-reticulatus': 'Reticulated Python', 'rattus-rattus': 'Black Rat', 'ornithorhynchus-anatinus': 'Platypus', 'desmodus-rotundus': 'Vampire Bat', 'taurotragus-oryx': 'Common Eland', 'connochaetes-gnou': 'Wildebeest', 'puma-concolor': 'Cougar', 'formicidae': 'Ant', 'danaus-plexippus': 'Monarch Butterfly', 'papilio-glaucus': 'Eastern Tiger Swallowtail', 'heterocera': 'Moth', 'dermochelys-coriacea': 'Leatherback Sea Turtle', 'lampropeltis-triangulum': 'Milk snake', 'heloderma-suspectum': 'Gila Monster', 'macropus-giganteus': 'Kangaroo', 'ailuropoda-melanoleuca': 'Giant Panda', 'ailurus-fulgens': 'Red Panda', 'procyon-lotor': 'Raccoon', 'smilodon-populator': 'Smilodon', 'mammuthus-primigeniu': 'Woolly Mammoth', 'tapirus': 'Tapir', 'bison-bison': 'American Bison', 'alces-alces': 'Moose', 'aptenodytes-forsteri': 'Emperor Penguin', 'hydrurga-leptonyx': 'Leopard Seal', 'bradypus-variegatus': 'Brown-throated Three-toed Sloth', 'sciurus-carolinensis': 'Eastern Gray Squirrel', 'cyanocitta-cristata': 'Blue Jay', 'periplaneta-americana': 'American Cockroach', 'anas-platyrhynchos': 'Mallard', 'pavo-cristatus': 'Indian Peafowl', 'ara-macao': 'Scarlet Macaw', 'enhydra-lutris': 'Sea Otter', 'physalia-physalis': \"Portuguese Man o' War\", 'codium-fragile': \"Dead Man's Fingers\", 'centruroides-vittatus': 'Striped Bark Scorpion', 'lemur-catta': 'Ring-tailed Lemur', 'delphinapterus-leucas': 'Beluga', 'inia-geoffrensis': 'Boto', 'phascolarctos-cinereus': 'Koala', 'spheniscus-demersus': 'African Penguin', 'aquila-chrysaetos': 'Golden Eagle', 'branta-canadensis': 'Canada Goose', 'turdus-migratorius': 'American Robin', 'passerina-ciris': 'Painted Bunting', 'geococcyx-californianus': 'Greater Roadrunner', 'icterus-galbula': 'Baltimore Oriole', 'icterus-spurius': 'Orchard Oriole', 'crotophaga-sulcirostris': 'Groove-billed Ani', 'monodon-monoceros': 'Narwhal', 'struthio-camelus': 'Common Ostrich', 'ardea-herodias': 'Great Blue Heron', 'phoenicopterus-ruber': 'American Flamingo', 'okapia-johnstoni': 'Okapi', 'cryptoprocta-ferox': 'Fossa', 'cardinalis-cardinalis': 'Northern Cardinal', 'apis-mellifera': 'Western Honey Bee', 'telmatobufo-bullocki': 'Bullock Mountains False Toad', 'architeuthis-dux': 'Giant Squid', 'agkistrodon-contortrix': 'Eastern Copperhead', 'eidolon-helvum': 'Straw-coloured Fruit Bat', 'ceratitis-capitata': 'Mediterranean Fruit Fly', 'musca-domestica': 'Common House Fly', 'thryothorus-ludovicianus': 'Carolina Wren', 'rusa-unicolor': 'Sambar', 'bos-gaurus': 'Gaur', 'vultur-gryphus': 'Andean Condor', 'aethia-cristatella': 'Crested Auklet', 'mimus-polyglottos': 'Northern Mockingbird', 'cathartes-aura': 'Turkey Vulture', 'poecile-atricapillus': 'Black-capped Chickadee', 'mergus-serrator': 'Red-breasted Merganser', 'colaptes-auratus': 'Northern Flicker', 'circus-hudsonius': 'Northern Harrier', 'tyrannus-tyrannus': 'Eastern Kingbird', 'betta-splendens': 'Siamese Fighting Fish', 'pterois-volitans': 'Common Lionfish', 'phyllobates-terribilis': 'Golden Poison Dart Frog', 'hapalochlaena-maculosa': 'Lesser Blue-ringed Octopus', 'ovis-canadensis': 'Bighorn Sheep', 'vulpes-vulpes': 'Red Fox', 'lepus-americanus': 'Snowshoe Hare', 'dasypus-novemcinctus': 'Nine-banded Armadillo', 'martes-americana': 'American Marten', 'tarsius-pumilus': 'Pygmy Tarsier', 'melanerpes-carolinus': 'Red-bellied Woodpecker', 'icterus-gularis': 'Altamira Oriole', 'chelonia-mydas': 'Green Sea Turtle', 'chrysemys-picta': 'Painted Turtle', 'pantherophis-guttatus': 'Corn Snake', 'correlophus-ciliatus': 'Crested Giant Gecko', 'centrochelys-sulcata': 'African Spurred Tortoise', 'pantherophis-alleghaniensis': 'Eastern Ratsnake'}\n"
          ]
        }
      ]
    },
    {
      "cell_type": "code",
      "source": [
        "for i in dictionary:\n",
        "  if i==name:\n",
        "    print(dictionary[i])\n"
      ],
      "metadata": {
        "id": "BtW1JIOBOWVU"
      },
      "execution_count": null,
      "outputs": []
    },
    {
      "cell_type": "code",
      "source": [],
      "metadata": {
        "id": "XEVd69O9OMg8"
      },
      "execution_count": null,
      "outputs": []
    }
  ]
}