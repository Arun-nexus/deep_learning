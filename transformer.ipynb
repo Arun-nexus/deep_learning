{
  "nbformat": 4,
  "nbformat_minor": 0,
  "metadata": {
    "colab": {
      "provenance": [],
      "authorship_tag": "ABX9TyPKIzZWuiGRD4qAsw0WSUZl",
      "include_colab_link": true
    },
    "kernelspec": {
      "name": "python3",
      "display_name": "Python 3"
    },
    "language_info": {
      "name": "python"
    }
  },
  "cells": [
    {
      "cell_type": "markdown",
      "metadata": {
        "id": "view-in-github",
        "colab_type": "text"
      },
      "source": [
        "<a href=\"https://colab.research.google.com/github/Arun-nexus/nexux/blob/main/transformer.ipynb\" target=\"_parent\"><img src=\"https://colab.research.google.com/assets/colab-badge.svg\" alt=\"Open In Colab\"/></a>"
      ]
    },
    {
      "cell_type": "code",
      "execution_count": null,
      "metadata": {
        "id": "PV7RKj9mcYyY"
      },
      "outputs": [],
      "source": [
        "from google.colab import drive\n",
        "drive.mount(\"/content/drive\")"
      ]
    },
    {
      "cell_type": "code",
      "source": [
        "!mkdir -p ~/.kaggle\n",
        "!cp /content/drive/MyDrive/kaggle/kaggle.json ~/.kaggle/\n",
        "!chmod 600 ~/.kaggle/kaggle.json"
      ],
      "metadata": {
        "id": "UTlJxVfodGBN"
      },
      "execution_count": null,
      "outputs": []
    },
    {
      "cell_type": "code",
      "source": [
        "!kaggle datasets download -d denvermagtibay/ai-generated-essays-dataset"
      ],
      "metadata": {
        "id": "atnW8ofpecbp"
      },
      "execution_count": null,
      "outputs": []
    },
    {
      "cell_type": "code",
      "source": [
        "import zipfile\n",
        "with zipfile.ZipFile(\"ai-generated-essays-dataset.zip\",\"r\") as zip:\n",
        "  zip.extractall(\"dataset\")"
      ],
      "metadata": {
        "id": "4wOVJPf-fAqj"
      },
      "execution_count": null,
      "outputs": []
    },
    {
      "cell_type": "code",
      "source": [
        "import pandas as pd\n"
      ],
      "metadata": {
        "id": "TnSTCWAefZ4R"
      },
      "execution_count": null,
      "outputs": []
    },
    {
      "cell_type": "code",
      "source": [
        "df=pd.read_csv(\"/content/dataset/AI Generated Essays Dataset.csv\")"
      ],
      "metadata": {
        "id": "97CJdRKefbTH"
      },
      "execution_count": null,
      "outputs": []
    },
    {
      "cell_type": "code",
      "source": [
        "df.info()"
      ],
      "metadata": {
        "id": "0KejQKLqgTk2"
      },
      "execution_count": null,
      "outputs": []
    },
    {
      "cell_type": "code",
      "source": [
        "df.head()"
      ],
      "metadata": {
        "id": "_I-ZXYTogUR-"
      },
      "execution_count": null,
      "outputs": []
    },
    {
      "cell_type": "code",
      "source": [
        "df[\"generated\"].value_counts()"
      ],
      "metadata": {
        "id": "ZDlFEviXhCjY"
      },
      "execution_count": null,
      "outputs": []
    },
    {
      "cell_type": "code",
      "source": [
        "from transformers import DistilBertTokenizer,TFDistilBertForSequenceClassification"
      ],
      "metadata": {
        "id": "Xjmnb4JOggRz"
      },
      "execution_count": null,
      "outputs": []
    },
    {
      "cell_type": "code",
      "source": [
        "tokenizer = DistilBertTokenizer.from_pretrained(\"distilbert-base-uncased\")\n"
      ],
      "metadata": {
        "id": "mnnMGps8hnfo"
      },
      "execution_count": null,
      "outputs": []
    },
    {
      "cell_type": "code",
      "source": [],
      "metadata": {
        "id": "zL9vDvdejKOU"
      },
      "execution_count": null,
      "outputs": []
    },
    {
      "cell_type": "code",
      "source": [
        "from sklearn.model_selection import train_test_split"
      ],
      "metadata": {
        "id": "DAbKJoD-iIYY"
      },
      "execution_count": null,
      "outputs": []
    },
    {
      "cell_type": "code",
      "source": [
        "text_train,text_val,labels_train,labels_val=train_test_split(df[\"text\"].to_list(),df[\"generated\"],test_size=0.2,random_state=7)"
      ],
      "metadata": {
        "id": "GwGVMeK3ihPl"
      },
      "execution_count": null,
      "outputs": []
    },
    {
      "cell_type": "code",
      "source": [
        "text_train=tokenizer(text_train,truncation=True,padding=True,max_length=500)\n",
        "text_val=tokenizer(text_val,truncation=True,padding=True,max_length=500)\n"
      ],
      "metadata": {
        "id": "ri3RWW0JjClX"
      },
      "execution_count": null,
      "outputs": []
    },
    {
      "cell_type": "code",
      "source": [
        "import tensorflow as tf"
      ],
      "metadata": {
        "id": "IBhsJpwdjpZM"
      },
      "execution_count": null,
      "outputs": []
    },
    {
      "cell_type": "code",
      "source": [
        "train_dataset=tf.data.Dataset.from_tensor_slices((\n",
        "        {\n",
        "        \"input_ids\": tf.convert_to_tensor(text_train['input_ids']),\n",
        "        \"attention_mask\": tf.convert_to_tensor(text_train['attention_mask'])\n",
        "    },\n",
        "    tf.convert_to_tensor(labels_train))).shuffle(1000).batch(3)"
      ],
      "metadata": {
        "id": "QyxLqWQFkaWz"
      },
      "execution_count": null,
      "outputs": []
    },
    {
      "cell_type": "code",
      "source": [
        "val_dataset=tf.data.Dataset.from_tensor_slices((\n",
        "        {\n",
        "        \"input_ids\": tf.convert_to_tensor(text_val['input_ids']),\n",
        "        \"attention_mask\": tf.convert_to_tensor(text_val['attention_mask'])\n",
        "    },\n",
        "    tf.convert_to_tensor(labels_val))).batch(3)"
      ],
      "metadata": {
        "id": "_1vL3yROkaTZ"
      },
      "execution_count": null,
      "outputs": []
    },
    {
      "cell_type": "code",
      "source": [
        "from tensorflow.keras.losses import SparseCategoricalCrossentropy"
      ],
      "metadata": {
        "id": "LVUMRh0IkaQv"
      },
      "execution_count": null,
      "outputs": []
    },
    {
      "cell_type": "code",
      "source": [
        "model=TFDistilBertForSequenceClassification.from_pretrained(\"distilbert-base-uncased\",num_labels=2)"
      ],
      "metadata": {
        "id": "BUqlAGI7sOiB"
      },
      "execution_count": null,
      "outputs": []
    },
    {
      "cell_type": "code",
      "source": [
        "model.compile(loss=SparseCategoricalCrossentropy(from_logits=True),optimizer=\"Adam\",metrics=[\"accuracy\"])"
      ],
      "metadata": {
        "id": "BlXHOP4ckaOE"
      },
      "execution_count": null,
      "outputs": []
    },
    {
      "cell_type": "code",
      "source": [
        "from tensorflow.keras.callbacks import EarlyStopping\n",
        "stop=EarlyStopping(\n",
        "    monitor=\"val_sparse_categotical_accuracy\",\n",
        "    patience=2,\n",
        "    verbose=1,\n",
        "    restore_best_weights=True\n",
        ")"
      ],
      "metadata": {
        "id": "nfShnUbZkaLt"
      },
      "execution_count": null,
      "outputs": []
    },
    {
      "cell_type": "code",
      "source": [
        "hist=model.fit(train_dataset,validation_data=val_dataset,epochs=10,batch_size=512)"
      ],
      "metadata": {
        "id": "aB3N-f6YMZ9c"
      },
      "execution_count": null,
      "outputs": []
    },
    {
      "cell_type": "code",
      "source": [
        "model.evaluate(val_dataset)"
      ],
      "metadata": {
        "id": "d__9obm8puK-"
      },
      "execution_count": null,
      "outputs": []
    },
    {
      "cell_type": "code",
      "source": [
        "def predict(text):\n",
        "  inputs=tokenizer(text,return_tensor=\"tf\",truncation=True,padding=True,max_length=500)\n",
        "  logits=model(inputs).logits\n",
        "  prob=tf.nn.softmax(logits,axis=-1)[0].numpy()\n",
        "  return {\"me\":float(prob[0]),\"model\":float(prob[1])}\n",
        "\n",
        "predict(\"this essay was written\")"
      ],
      "metadata": {
        "id": "lqY3JCJyKqMf"
      },
      "execution_count": null,
      "outputs": []
    },
    {
      "cell_type": "code",
      "source": [],
      "metadata": {
        "id": "mnlVmlbJKqI6"
      },
      "execution_count": null,
      "outputs": []
    },
    {
      "cell_type": "code",
      "source": [],
      "metadata": {
        "id": "ZyHaRBX3MZJ5"
      },
      "execution_count": null,
      "outputs": []
    },
    {
      "cell_type": "code",
      "source": [],
      "metadata": {
        "id": "Q9FinfdNKp2X"
      },
      "execution_count": null,
      "outputs": []
    }
  ]
}