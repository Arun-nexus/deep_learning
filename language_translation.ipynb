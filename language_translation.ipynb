{
  "cells": [
    {
      "cell_type": "markdown",
      "metadata": {
        "id": "view-in-github",
        "colab_type": "text"
      },
      "source": [
        "<a href=\"https://colab.research.google.com/github/Arun-nexus/deep_learning/blob/main/language_translation.ipynb\" target=\"_parent\"><img src=\"https://colab.research.google.com/assets/colab-badge.svg\" alt=\"Open In Colab\"/></a>"
      ]
    },
    {
      "cell_type": "code",
      "execution_count": null,
      "id": "dba2ea73",
      "metadata": {
        "id": "dba2ea73"
      },
      "outputs": [],
      "source": [
        "import pandas as pd\n",
        "df=pd.read_csv(r\"C:\\Users\\Arun\\Downloads\\1000K IITM.csv\\1000K IITM.csv\")\n",
        "df"
      ]
    },
    {
      "cell_type": "code",
      "execution_count": null,
      "id": "c3530fbc",
      "metadata": {
        "id": "c3530fbc"
      },
      "outputs": [],
      "source": [
        "df=df[:50000]\n",
        "df.fillna('',inplace=True)"
      ]
    },
    {
      "cell_type": "code",
      "execution_count": null,
      "id": "09a14541",
      "metadata": {
        "id": "09a14541"
      },
      "outputs": [],
      "source": [
        "hindi=df[\"hindi\"].to_list()\n",
        "eng=df[\"english\"].to_list()"
      ]
    },
    {
      "cell_type": "code",
      "execution_count": null,
      "id": "ea4aa4bd",
      "metadata": {
        "id": "ea4aa4bd"
      },
      "outputs": [],
      "source": [
        "from nltk import word_tokenize\n",
        "def preprocess(text):\n",
        "    alltokens=[word_tokenize(word) for word in text]\n",
        "    return alltokens\n",
        "hindi_tokens=preprocess(hindi)\n",
        "eng_tokens=preprocess(eng)"
      ]
    },
    {
      "cell_type": "code",
      "execution_count": null,
      "id": "24939d6c",
      "metadata": {
        "id": "24939d6c"
      },
      "outputs": [],
      "source": [
        "hindi_tokens_list=[]\n",
        "eng_tokens_list=[]\n",
        "for row in hindi_tokens:\n",
        "    for word in row:\n",
        "        hindi_tokens_list.append(word)\n",
        "for row in eng_tokens:\n",
        "    for word in row:\n",
        "        eng_tokens_list.append(word)"
      ]
    },
    {
      "cell_type": "code",
      "execution_count": null,
      "id": "8253c67b",
      "metadata": {
        "id": "8253c67b"
      },
      "outputs": [],
      "source": [
        "from collections import Counter\n",
        "def counter(text):\n",
        "    counts=Counter(text)\n",
        "    return counts\n",
        "hindi_word_counts=counter(hindi_tokens_list)\n",
        "english_word_counts=counter(eng_tokens_list)"
      ]
    },
    {
      "cell_type": "code",
      "execution_count": null,
      "id": "6fbe9d7a",
      "metadata": {
        "id": "6fbe9d7a"
      },
      "outputs": [],
      "source": [
        "hindi_vocab={\"<pad>\":0,\"<unk>\":1}\n",
        "english_vocab={\"<pad>\":0,\"<unk>\":1}\n",
        "for word in hindi_word_counts:\n",
        "    if word not in hindi_vocab:\n",
        "        hindi_vocab[word]=len(hindi_vocab)\n",
        "for word in english_word_counts:\n",
        "    if word not in english_vocab:\n",
        "        english_vocab[word]=len(english_vocab)"
      ]
    },
    {
      "cell_type": "code",
      "execution_count": null,
      "id": "3fa8af2f",
      "metadata": {
        "id": "3fa8af2f"
      },
      "outputs": [],
      "source": [
        "vocab_size=len(hindi_vocab)"
      ]
    },
    {
      "cell_type": "code",
      "execution_count": null,
      "id": "7b95cd5f",
      "metadata": {
        "id": "7b95cd5f"
      },
      "outputs": [],
      "source": [
        "def process(text,dict):\n",
        "    sequence=[]\n",
        "    index=[dict.get(word) for row in text for word in row]\n",
        "    sequence.append(index)\n",
        "    print(sequence)\n",
        "    return sequence\n",
        "x_sequence=process(hindi,hindi_vocab)\n",
        "y_sequence=process(eng,english_vocab)"
      ]
    },
    {
      "cell_type": "code",
      "execution_count": null,
      "id": "32d1d638",
      "metadata": {
        "id": "32d1d638"
      },
      "outputs": [],
      "source": [
        "import torch\n",
        "import torch.nn as nn\n",
        "import math"
      ]
    },
    {
      "cell_type": "code",
      "execution_count": null,
      "id": "59ca840f",
      "metadata": {
        "id": "59ca840f"
      },
      "outputs": [],
      "source": [
        "class positional_encoding(nn.Module):\n",
        "    def __init__(self,max_len=int,d_model=int):\n",
        "        super().__init__()\n",
        "\n",
        "        pe=torch.zeros(max_len,d_model)\n",
        "        position=torch.arange(0,max_len)\n",
        "        div_term=torch.exp(torch.arange(0,d_model,2)*(-math.log(10000.0)/d_model))\n",
        "        pe[:,0::2]=torch.sin(position*div_term)\n",
        "        pe[:,1::2]=torch.cos(position*div_term)\n",
        "        pe=pe.unsqueeze(0)\n",
        "        self.register_buffer(\"pe\",pe)\n",
        "\n",
        "\n",
        "    def forward(self,x):\n",
        "        return x+x[:,:x.size(1)]"
      ]
    },
    {
      "cell_type": "code",
      "execution_count": null,
      "id": "ecd87e8d",
      "metadata": {
        "id": "ecd87e8d"
      },
      "outputs": [],
      "source": [
        "class attention(nn.Module):\n",
        "    def __init__(self,d_model=int,num_heads=int):\n",
        "        super().__init__()\n",
        "        assert d_model%num_heads==0\n",
        "        self.d_k=d_model//num_heads\n",
        "        self.num_heads=num_heads\n",
        "\n",
        "        self.q_linear=nn.Linear(d_model,d_model)\n",
        "        self.k_linear=nn.Linear(d_model,d_model)\n",
        "        self.v_linear=nn.Linear(d_model,d_model)\n",
        "        self.out=nn.Linear(d_model,d_model)\n",
        "\n",
        "    def forward(self,q,k,v,mask=None):\n",
        "        batch=q.size(0)\n",
        "        Q=self.q_linear(q).view(batch,-1,self.num_heads,self.d_k).transpose(1,2)\n",
        "        K=self.q_linear(k).view(batch,-1,self.num_heads,self.d_k).transpose(1,2)\n",
        "        V=self.q_linear(v).view(batch,-1,self.num_heads,self.d_k).transpose(1,2)\n",
        "\n",
        "        scores=torch.matmul(Q,K.transpose(-2,-1))/math.sqrt(self.d_k)\n",
        "        if mask is not None:\n",
        "            scores=scores.masked_fill(mask==0,float(\"-inf\"))\n",
        "        attn=torch.softmax(scores,dim=-1)\n",
        "        output=torch.matmul(attn,V)\n",
        "        output=output.transpose(1,2).contiguous().view(B,-1,self.num_heads*self.d_k)\n",
        "        return self.out(output)\n"
      ]
    },
    {
      "cell_type": "code",
      "execution_count": null,
      "id": "58e7dc3a",
      "metadata": {
        "id": "58e7dc3a"
      },
      "outputs": [],
      "source": [
        "class feedforward(nn.Module):\n",
        "    def __init__(self,d_model,neurons=2048,drop=float):\n",
        "        super().__init__()\n",
        "        self.features=nn.Sequential(\n",
        "            nn.Linear(d_model,neurons),\n",
        "            nn.ReLU(),\n",
        "            nn.Dropout(drop),\n",
        "            nn.Linear(neurons,d_model)\n",
        "            )\n",
        "    def forward(self,x):\n",
        "        return self.features(x)"
      ]
    },
    {
      "cell_type": "code",
      "execution_count": null,
      "id": "21c01bd2",
      "metadata": {
        "id": "21c01bd2"
      },
      "outputs": [],
      "source": [
        "class encoder(nn.Module):\n",
        "    def __init__(self,d_model=int,num_heads=int,neurons=2048,drop=float):\n",
        "        super().__init__()\n",
        "        self.attn=attention(d_model,num_heads)\n",
        "        self.ff=feedforward(d_model,drop)\n",
        "        self.norm=nn.LayerNorm(d_model)\n",
        "        self.norm2=nn.LayerNorm(d_model)\n",
        "        self.dropout=nn.Dropout(drop)\n",
        "    def forward(self,x,mask=None):\n",
        "        attn=self.attn(x,x,x,mask)\n",
        "        x=self.norm(x+self.dropout(attn))\n",
        "        ff_out=self.ff(x)\n",
        "        x=self.norm2(x+self.dropout(ff_out))\n",
        "        return(x)"
      ]
    },
    {
      "cell_type": "code",
      "execution_count": null,
      "id": "cf091d73",
      "metadata": {
        "id": "cf091d73"
      },
      "outputs": [],
      "source": [
        "class decoder(nn.Module):\n",
        "    def __init__(self,d_model=int,num_heads=int,neurons=2048,drop=float):\n",
        "        super().__init__()\n",
        "        self.attn=attention(d_model,num_heads)\n",
        "        self.cross_attn=attention(d_model,num_heads)\n",
        "        self.ff=feedforward(d_model,drop)\n",
        "        self.norm1=nn.LayerNorm(d_model)\n",
        "        self.norm2=nn.LayerNorm(d_model)\n",
        "        self.norm3=nn.LayerNorm(d_model)\n",
        "        self.dropout=nn.Dropout(drop)\n",
        "    def forward(self,x,enc_out,src_mask=None,tgt_mask=None):\n",
        "        attn=self.attn(x,x,x,tgt_mask)\n",
        "        x=self.norm1(x+self.dropout(attn))\n",
        "        cross_attn=self.cross_attn(x,enc_out,enc_out,src_mask)\n",
        "        x=self.norm2(x+self.dropout(cross_attn))\n",
        "        ff_out=self.ff(x)\n",
        "        x=self.norm3(x+self.dropout(ff_out))\n",
        "        return x"
      ]
    },
    {
      "cell_type": "code",
      "execution_count": null,
      "id": "b745598d",
      "metadata": {
        "id": "b745598d"
      },
      "outputs": [],
      "source": [
        "class Transformer(nn.Module):\n",
        "    def __init__(self, src_vocab, tgt_vocab, d_model=512, num_heads=8, num_layers=6, neurons=2048, dropout=0.1):\n",
        "        super().__init__()\n",
        "        self.src_embed = nn.Embedding(src_vocab, d_model)\n",
        "        self.tgt_embed = nn.Embedding(tgt_vocab, d_model)\n",
        "        self.pos_enc = positional_encoding(d_model)\n",
        "\n",
        "        self.encoder_layers = nn.ModuleList([encoder(d_model, num_heads, neurons, dropout) for _ in range(num_layers)])\n",
        "        self.decoder_layers = nn.ModuleList([encoder(d_model, num_heads, neurons, dropout) for _ in range(num_layers)])\n",
        "\n",
        "        self.fc_out = nn.Linear(d_model, tgt_vocab)\n",
        "\n",
        "    def forward(self, src, tgt, src_mask=None, tgt_mask=None):\n",
        "        src = self.pos_enc(self.src_embed(src))\n",
        "        tgt = self.pos_enc(self.tgt_embed(tgt))\n",
        "\n",
        "        for layer in self.encoder_layers:\n",
        "            src = layer(src, src_mask)\n",
        "\n",
        "        for layer in self.decoder_layers:\n",
        "            tgt = layer(tgt, src, src_mask, tgt_mask)\n",
        "\n",
        "        return self.fc_out(tgt)"
      ]
    },
    {
      "cell_type": "code",
      "execution_count": null,
      "id": "eec73c0e",
      "metadata": {
        "id": "eec73c0e"
      },
      "outputs": [],
      "source": [
        "import torch.nn as nn\n",
        "class early_stopping(nn.Module):\n",
        "    def __init__(self,min_delta,patience):\n",
        "        super().__init__()\n",
        "        self.min_delta=min_delta\n",
        "        self.partience=patience\n",
        "        self.early_stop=False\n",
        "        self.best_loss=float(\"inf\")\n",
        "        self.counter=0\n",
        "\n",
        "    def __call__(self,val_loss):\n",
        "        if self.min_delta >= val_loss-self.best_loss:\n",
        "            self.counter=0\n",
        "            self.best_loss=val_loss\n",
        "        else:\n",
        "            self.counter+=1\n",
        "            if self.counter>=self.partience:\n",
        "                self.early_stop=True"
      ]
    },
    {
      "cell_type": "code",
      "execution_count": null,
      "id": "e5ec7e0f",
      "metadata": {
        "id": "e5ec7e0f"
      },
      "outputs": [],
      "source": [
        "device=(\"cuda\" if torch.cuda.is_available() else \"cpu\")\n",
        "model=Transformer(vocab_size=vocab_size,d_model=512,max_len=200,num_layers=6,num_heads=8,d_ff=2048,num_classes=len(english_vocab)).to(device)\n",
        "model_loss=nn.CrossEntropyLoss()\n",
        "optimizer=torch.optim.Adam(model.parameters(),lr=0.0001)\n",
        "scheduler=torch.optim.lr_scheduler.ReduceLROnPlateau(optimizer,mode=\"min\",factor=0.5,patience=2)"
      ]
    },
    {
      "cell_type": "code",
      "execution_count": null,
      "id": "62a6b40d",
      "metadata": {
        "id": "62a6b40d"
      },
      "outputs": [],
      "source": [
        "def tensor(tensor):\n",
        "    new_tensor= torch.tensor(tensor,dtype=torch.long)\n",
        "    return new_tensor\n",
        "x_sequence=tensor(x_sequence)\n",
        "y_sequence=tensor(y_sequence)"
      ]
    },
    {
      "cell_type": "code",
      "execution_count": null,
      "id": "6a381b9c",
      "metadata": {
        "id": "6a381b9c"
      },
      "outputs": [],
      "source": []
    },
    {
      "cell_type": "code",
      "execution_count": null,
      "id": "2a727dac",
      "metadata": {
        "id": "2a727dac"
      },
      "outputs": [],
      "source": [
        "from torch.utils.data import DataLoader,TensorDataset\n",
        "from sklearn.model_selection import train_test_split\n",
        "dataset=TensorDataset(x_sequence,y_sequence)\n",
        "training_dataset,validation_data=train_test_split(dataset,test_size=0.2,random_state=7)\n",
        "training_dataset_loader=DataLoader(training_dataset,batch_size=256)\n",
        "validation_dataset_loader=DataLoader(validation_data,batch_size=256)"
      ]
    },
    {
      "cell_type": "code",
      "execution_count": null,
      "id": "68d5644a",
      "metadata": {
        "id": "68d5644a"
      },
      "outputs": [],
      "source": [
        "from torch.amp import GradScaler,autocast\n",
        "epochs=50\n",
        "stopper=early_stopping(1e-4,4)\n",
        "training_loss_store=[]\n",
        "validation_loss_store=[]\n",
        "training_accuracy_store=[]\n",
        "validation_accuracy_store=[]\n",
        "scaler=GradScaler()\n",
        "\n",
        "for epoch in range(epochs):\n",
        "    running,total,correct=0,0,0\n",
        "    for x,y in train_data_loader:\n",
        "        x,y=x.to(device),y.to(device)\n",
        "\n",
        "        optimizer.zero_grad()\n",
        "        with autocast(\"cuda\"):\n",
        "            output=model(x)\n",
        "            loss=model_loss(output,y)\n",
        "        scaler.scale(loss).backward()\n",
        "        torch.nn.utils.clip_grad_norm_(model.parameters(), max_norm=1.0)\n",
        "        scaler.step(optimizer)\n",
        "        scaler.update()\n",
        "        running+=loss.item()\n",
        "        _,pred=torch.max(output,1)\n",
        "        correct+=(pred==y).sum().item()\n",
        "        total+=y.size(0)\n",
        "        # print(torch.isnan(pred).any(), torch.isnan(y).any())\n",
        "\n",
        "    training_loss=running/len(y)\n",
        "    training_acc=correct/total\n",
        "    training_loss_store.append(training_loss)\n",
        "    training_accuracy_store.append(training_acc)\n",
        "\n",
        "    model.eval()\n",
        "    vrunning,vtotal,vcorrect=0,0,0\n",
        "    for x,y in val_data_loader:\n",
        "        x,y=x.to(device),y.to(device)\n",
        "\n",
        "        optimizer.zero_grad()\n",
        "        with autocast(\"cuda\"):\n",
        "            voutput=model(x)\n",
        "            vloss=model_loss(voutput,y)\n",
        "\n",
        "        vrunning+=vloss.item()\n",
        "        _,vpred=torch.max(voutput,1)\n",
        "        vcorrect+=(vpred==y).sum().item()\n",
        "        vtotal+=y.size(0)\n",
        "    val_loss=vrunning/len(y)\n",
        "    val_acc=vcorrect/vtotal\n",
        "    validation_loss_store.append(val_loss)\n",
        "    validation_accuracy_store.append(val_acc)\n",
        "\n",
        "    print(f\"epoch: {epoch+1} training_loss: {training_loss:.4f} training acc:{training_acc:.2f} validation_loss: {val_loss:.4f} validation_acc: {val_acc:.2f} \")\n",
        "    stopper(val_loss)\n",
        "    if stopper.early_stop:\n",
        "        print(\"early_stopping triggered\")\n",
        "        break"
      ]
    }
  ],
  "metadata": {
    "kernelspec": {
      "display_name": "Python 3",
      "language": "python",
      "name": "python3"
    },
    "language_info": {
      "codemirror_mode": {
        "name": "ipython",
        "version": 3
      },
      "file_extension": ".py",
      "mimetype": "text/x-python",
      "name": "python",
      "nbconvert_exporter": "python",
      "pygments_lexer": "ipython3",
      "version": "3.10.10"
    },
    "colab": {
      "provenance": [],
      "include_colab_link": true
    }
  },
  "nbformat": 4,
  "nbformat_minor": 5
}